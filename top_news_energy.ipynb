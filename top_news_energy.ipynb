{
 "cells": [
  {
   "cell_type": "markdown",
   "id": "121c47af-fe05-4a50-8816-bbe8b06d2ce6",
   "metadata": {},
   "source": [
    "## Getting Top News Energy Headlines and stories using Eikon Data API (Python)\n",
    "#### Step 1) import the necessary Python libraries and set the Eikon's App Key"
   ]
  },
  {
   "cell_type": "code",
   "execution_count": null,
   "id": "410ed1ad-591c-4fa6-863a-c0966d12c2c2",
   "metadata": {},
   "outputs": [],
   "source": [
    "import eikon as ek\n",
    "from IPython.display import HTML\n",
    "from bs4 import BeautifulSoup\n",
    "\n",
    "ek.set_app_key('#### YOUR EIKON APP KEY ####')"
   ]
  },
  {
   "cell_type": "markdown",
   "id": "2f85e8e4-94c1-4f97-b7a5-09ca85cbe98e",
   "metadata": {},
   "source": [
    "#### Step 2) Get News headline of TOP NEWS Energy"
   ]
  },
  {
   "cell_type": "code",
   "execution_count": 52,
   "id": "92856433-2b14-4a38-872e-5fd400d21d9b",
   "metadata": {},
   "outputs": [
    {
     "data": {
      "text/html": [
       "<div>\n",
       "<style scoped>\n",
       "    .dataframe tbody tr th:only-of-type {\n",
       "        vertical-align: middle;\n",
       "    }\n",
       "\n",
       "    .dataframe tbody tr th {\n",
       "        vertical-align: top;\n",
       "    }\n",
       "\n",
       "    .dataframe thead th {\n",
       "        text-align: right;\n",
       "    }\n",
       "</style>\n",
       "<table border=\"1\" class=\"dataframe\">\n",
       "  <thead>\n",
       "    <tr style=\"text-align: right;\">\n",
       "      <th></th>\n",
       "      <th>versionCreated</th>\n",
       "      <th>text</th>\n",
       "      <th>storyId</th>\n",
       "      <th>sourceCode</th>\n",
       "    </tr>\n",
       "  </thead>\n",
       "  <tbody>\n",
       "    <tr>\n",
       "      <th>2022-03-22 16:23:36.896</th>\n",
       "      <td>2022-03-22 16:23:36.896000+00:00</td>\n",
       "      <td>Energy                                        ...</td>\n",
       "      <td>urn:newsml:reuters.com:20220322:nLPK4wJz2N:1</td>\n",
       "      <td>NS:RTRS</td>\n",
       "    </tr>\n",
       "    <tr>\n",
       "      <th>2017-10-30 00:33:59.000</th>\n",
       "      <td>2022-03-22 16:23:34+00:00</td>\n",
       "      <td>*TOP NEWS* Energy</td>\n",
       "      <td>urn:newsml:reuters.com:20171030:nTOPO:92</td>\n",
       "      <td>NS:RTRS</td>\n",
       "    </tr>\n",
       "    <tr>\n",
       "      <th>2022-03-22 16:11:11.000</th>\n",
       "      <td>2022-03-22 16:20:15+00:00</td>\n",
       "      <td>India's top fuel retailer to up petrol, diesel...</td>\n",
       "      <td>urn:newsml:reuters.com:20220322:nL3N2VP3KY:2</td>\n",
       "      <td>NS:RTRS</td>\n",
       "    </tr>\n",
       "    <tr>\n",
       "      <th>2022-03-22 04:59:56.000</th>\n",
       "      <td>2022-03-22 16:17:12+00:00</td>\n",
       "      <td>UPDATE 6-Oil dips as dollar rises, EU looks le...</td>\n",
       "      <td>urn:newsml:reuters.com:20220322:nL2N2VP05F:13</td>\n",
       "      <td>NS:RTRS</td>\n",
       "    </tr>\n",
       "    <tr>\n",
       "      <th>2022-03-22 11:23:11.000</th>\n",
       "      <td>2022-03-22 15:59:26+00:00</td>\n",
       "      <td>UPDATE 2-Traders warn of Russia-related diesel...</td>\n",
       "      <td>urn:newsml:reuters.com:20220322:nL2N2VP0K8:7</td>\n",
       "      <td>NS:RTRS</td>\n",
       "    </tr>\n",
       "    <tr>\n",
       "      <th>2022-03-22 15:46:58.000</th>\n",
       "      <td>2022-03-22 15:46:58+00:00</td>\n",
       "      <td>PKN Orlen buys Norwegian crude to replace Russ...</td>\n",
       "      <td>urn:newsml:reuters.com:20220322:nL5N2VO51E:2</td>\n",
       "      <td>NS:RTRS</td>\n",
       "    </tr>\n",
       "    <tr>\n",
       "      <th>2022-03-22 15:44:48.000</th>\n",
       "      <td>2022-03-22 15:44:48+00:00</td>\n",
       "      <td>UPDATE 1-Platts allows traders to specify rest...</td>\n",
       "      <td>urn:newsml:reuters.com:20220322:nL2N2VP1GD:2</td>\n",
       "      <td>NS:RTRS</td>\n",
       "    </tr>\n",
       "    <tr>\n",
       "      <th>2022-03-22 15:44:22.000</th>\n",
       "      <td>2022-03-22 15:44:28+00:00</td>\n",
       "      <td>EXCLUSIVE-Petroperu will not submit annual fin...</td>\n",
       "      <td>urn:newsml:reuters.com:20220322:nL2N2VP1KX:2</td>\n",
       "      <td>NS:RTRS</td>\n",
       "    </tr>\n",
       "    <tr>\n",
       "      <th>2022-03-21 14:52:07.000</th>\n",
       "      <td>2022-03-22 15:42:45+00:00</td>\n",
       "      <td>QUOTES-Top trading houses speak at commodities...</td>\n",
       "      <td>urn:newsml:reuters.com:20220321:nL5N2VO41E:9</td>\n",
       "      <td>NS:RTRS</td>\n",
       "    </tr>\n",
       "    <tr>\n",
       "      <th>2022-03-22 14:45:01.000</th>\n",
       "      <td>2022-03-22 14:52:05+00:00</td>\n",
       "      <td>Platts to publish restrictions on origin in it...</td>\n",
       "      <td>urn:newsml:reuters.com:20220322:nL5N2VP4HB:2</td>\n",
       "      <td>NS:RTRS</td>\n",
       "    </tr>\n",
       "  </tbody>\n",
       "</table>\n",
       "</div>"
      ],
      "text/plain": [
       "                                          versionCreated  \\\n",
       "2022-03-22 16:23:36.896 2022-03-22 16:23:36.896000+00:00   \n",
       "2017-10-30 00:33:59.000        2022-03-22 16:23:34+00:00   \n",
       "2022-03-22 16:11:11.000        2022-03-22 16:20:15+00:00   \n",
       "2022-03-22 04:59:56.000        2022-03-22 16:17:12+00:00   \n",
       "2022-03-22 11:23:11.000        2022-03-22 15:59:26+00:00   \n",
       "2022-03-22 15:46:58.000        2022-03-22 15:46:58+00:00   \n",
       "2022-03-22 15:44:48.000        2022-03-22 15:44:48+00:00   \n",
       "2022-03-22 15:44:22.000        2022-03-22 15:44:28+00:00   \n",
       "2022-03-21 14:52:07.000        2022-03-22 15:42:45+00:00   \n",
       "2022-03-22 14:45:01.000        2022-03-22 14:52:05+00:00   \n",
       "\n",
       "                                                                      text  \\\n",
       "2022-03-22 16:23:36.896  Energy                                        ...   \n",
       "2017-10-30 00:33:59.000                                  *TOP NEWS* Energy   \n",
       "2022-03-22 16:11:11.000  India's top fuel retailer to up petrol, diesel...   \n",
       "2022-03-22 04:59:56.000  UPDATE 6-Oil dips as dollar rises, EU looks le...   \n",
       "2022-03-22 11:23:11.000  UPDATE 2-Traders warn of Russia-related diesel...   \n",
       "2022-03-22 15:46:58.000  PKN Orlen buys Norwegian crude to replace Russ...   \n",
       "2022-03-22 15:44:48.000  UPDATE 1-Platts allows traders to specify rest...   \n",
       "2022-03-22 15:44:22.000  EXCLUSIVE-Petroperu will not submit annual fin...   \n",
       "2022-03-21 14:52:07.000  QUOTES-Top trading houses speak at commodities...   \n",
       "2022-03-22 14:45:01.000  Platts to publish restrictions on origin in it...   \n",
       "\n",
       "                                                               storyId  \\\n",
       "2022-03-22 16:23:36.896   urn:newsml:reuters.com:20220322:nLPK4wJz2N:1   \n",
       "2017-10-30 00:33:59.000       urn:newsml:reuters.com:20171030:nTOPO:92   \n",
       "2022-03-22 16:11:11.000   urn:newsml:reuters.com:20220322:nL3N2VP3KY:2   \n",
       "2022-03-22 04:59:56.000  urn:newsml:reuters.com:20220322:nL2N2VP05F:13   \n",
       "2022-03-22 11:23:11.000   urn:newsml:reuters.com:20220322:nL2N2VP0K8:7   \n",
       "2022-03-22 15:46:58.000   urn:newsml:reuters.com:20220322:nL5N2VO51E:2   \n",
       "2022-03-22 15:44:48.000   urn:newsml:reuters.com:20220322:nL2N2VP1GD:2   \n",
       "2022-03-22 15:44:22.000   urn:newsml:reuters.com:20220322:nL2N2VP1KX:2   \n",
       "2022-03-21 14:52:07.000   urn:newsml:reuters.com:20220321:nL5N2VO41E:9   \n",
       "2022-03-22 14:45:01.000   urn:newsml:reuters.com:20220322:nL5N2VP4HB:2   \n",
       "\n",
       "                        sourceCode  \n",
       "2022-03-22 16:23:36.896    NS:RTRS  \n",
       "2017-10-30 00:33:59.000    NS:RTRS  \n",
       "2022-03-22 16:11:11.000    NS:RTRS  \n",
       "2022-03-22 04:59:56.000    NS:RTRS  \n",
       "2022-03-22 11:23:11.000    NS:RTRS  \n",
       "2022-03-22 15:46:58.000    NS:RTRS  \n",
       "2022-03-22 15:44:48.000    NS:RTRS  \n",
       "2022-03-22 15:44:22.000    NS:RTRS  \n",
       "2022-03-21 14:52:07.000    NS:RTRS  \n",
       "2022-03-22 14:45:01.000    NS:RTRS  "
      ]
     },
     "metadata": {},
     "output_type": "display_data"
    }
   ],
   "source": [
    "# Get news headline for \"TOP/O\", you will get one headline that is \"*TOP NEWS* Energy\". \n",
    "# Please note that *TOP NEWS* Energy story will be updated overtime.\n",
    "\n",
    "df_news = ek.get_news_headlines(query = 'TOP/O', count=10)\n",
    "display(df_news)"
   ]
  },
  {
   "cell_type": "markdown",
   "id": "2fb0dd29-3d85-4f76-8a5e-2c70858d5735",
   "metadata": {},
   "source": [
    "#### Step 3) Retrieve a content of Top News Energy"
   ]
  },
  {
   "cell_type": "code",
   "execution_count": 53,
   "id": "e3825d04-52a3-4b7f-98cd-92388ce8e26b",
   "metadata": {},
   "outputs": [
    {
     "name": "stdout",
     "output_type": "stream",
     "text": [
      "urn:newsml:reuters.com:20171030:nTOPO:92\n"
     ]
    }
   ],
   "source": [
    "# Get storyId of *TOP NEWS* Energy\n",
    "# Use storyId to get story body using get_news_story()\n",
    "# You can use HTML to display story\n",
    "# HTML(top_news_story)\n",
    "\n",
    "story_id = df_news.loc[df_news['text'] == '*TOP NEWS* Energy']['storyId'][0]\n",
    "print(story_id)"
   ]
  },
  {
   "cell_type": "code",
   "execution_count": 98,
   "id": "9a0ad424-6f88-4a6a-b666-e62504162acf",
   "metadata": {},
   "outputs": [
    {
     "data": {
      "text/html": [
       "<div class=\"storyContent\" lang=\"en\"><pre>&gt; Traders warn of Russia-related diesel and gas shortages                           (<a href=\"reuters://REALTIME/verb=NewsStory/ric=nL2N2VP0K8\" data-type=\"storyId\" data-story-id=\"nL2N2VP0K8\" translate=\"no\" dir=\"ltr\">Full Story</a>)\r\n",
       "&gt; Pricing rows and sanctions choke Russian ESPO oil trade                           (<a href=\"reuters://REALTIME/verb=NewsStory/ric=nL5N2VP28P\" data-type=\"storyId\" data-story-id=\"nL5N2VP28P\" translate=\"no\" dir=\"ltr\">Full Story</a>)\r\n",
       "&gt; Saudi Arabia emphasizes 'essential role' of OPEC+ oil accord                      (<a href=\"reuters://REALTIME/verb=NewsStory/ric=nL2N2VP11J\" data-type=\"storyId\" data-story-id=\"nL2N2VP11J\" translate=\"no\" dir=\"ltr\">Full Story</a>)\r\n",
       "&gt; Platts allows traders to specify restrictions on oil product origins              (<a href=\"reuters://REALTIME/verb=NewsStory/ric=nL2N2VP1GD\" data-type=\"storyId\" data-story-id=\"nL2N2VP1GD\" translate=\"no\" dir=\"ltr\">Full Story</a>)\r\n",
       "&gt; ANALYSIS-Climate goals take second place as EU states cut petrol prices           (<a href=\"reuters://REALTIME/verb=NewsStory/ric=nL5N2VO50L\" data-type=\"storyId\" data-story-id=\"nL5N2VO50L\" translate=\"no\" dir=\"ltr\">Full Story</a>)\r\n",
       "&gt; Oil dips as dollar rises, EU looks less likely to ban Russian oil                 (<a href=\"reuters://REALTIME/verb=NewsStory/ric=nL2N2VP05F\" data-type=\"storyId\" data-story-id=\"nL2N2VP05F\" translate=\"no\" dir=\"ltr\">Full Story</a>)\r\n",
       "&gt; EXCLUSIVE-Petroperu will not submit annual financial audit before late July, says (<a href=\"reuters://REALTIME/verb=NewsStory/ric=nL2N2VP1KX\" data-type=\"storyId\" data-story-id=\"nL2N2VP1KX\" translate=\"no\" dir=\"ltr\">Full Story</a>)\r\n",
       "&gt; PKN Orlen buys Norwegian crude to replace Russian Urals                           (<a href=\"reuters://REALTIME/verb=NewsStory/ric=nL5N2VO51E\" data-type=\"storyId\" data-story-id=\"nL5N2VO51E\" translate=\"no\" dir=\"ltr\">Full Story</a>)\r\n",
       "&gt; Gunvor traded volumes lower in extreme markets, open to partner - CEO             (<a href=\"reuters://REALTIME/verb=NewsStory/ric=nS8N2LA03R\" data-type=\"storyId\" data-story-id=\"nS8N2LA03R\" translate=\"no\" dir=\"ltr\">Full Story</a>)\r\n",
       "&gt; COLUMN-Hedge funds cut oil positions as volatility surges: Kemp                   (<a href=\"reuters://REALTIME/verb=NewsStory/ric=nL2N2VO12M\" data-type=\"storyId\" data-story-id=\"nL2N2VO12M\" translate=\"no\" dir=\"ltr\">Full Story</a>)\r\n",
       "&gt; EXCLUSIVE-Mexico flared record levels of gas in 2021 -study                       (<a href=\"reuters://REALTIME/verb=NewsStory/ric=nL2N2VM088\" data-type=\"storyId\" data-story-id=\"nL2N2VM088\" translate=\"no\" dir=\"ltr\">Full Story</a>)\r\n",
       "&gt; Italy eyes almost 4 billion euro profit clawback from energy companies            (<a href=\"reuters://REALTIME/verb=NewsStory/ric=nL5N2VP22U\" data-type=\"storyId\" data-story-id=\"nL5N2VP22U\" translate=\"no\" dir=\"ltr\">Full Story</a>)\r\n",
       "&gt; Chevron California refinery workers strike; fuel prices seen unaffected           (<a href=\"reuters://REALTIME/verb=NewsStory/ric=nL2N2VO22N\" data-type=\"storyId\" data-story-id=\"nL2N2VO22N\" translate=\"no\" dir=\"ltr\">Full Story</a>)\r\n",
       "&gt; ANALYSIS-Europe split on how to spare consumers energy price pain                 (<a href=\"reuters://REALTIME/verb=NewsStory/ric=nL3N2VL2CK\" data-type=\"storyId\" data-story-id=\"nL3N2VL2CK\" translate=\"no\" dir=\"ltr\">Full Story</a>)\r\n",
       "&gt; India's top fuel retailer to up petrol, diesel prices again from Wednesday        (<a href=\"reuters://REALTIME/verb=NewsStory/ric=nL3N2VP3KY\" data-type=\"storyId\" data-story-id=\"nL3N2VP3KY\" translate=\"no\" dir=\"ltr\">Full Story</a>)</pre><p class=\"line-break\"><br/></p><pre>..............................................................................\r\n",
       "For a richer, multimedia version of Top News visit:\r\n",
       "  * Eikon: <a href=\"reuters://screen/verb=Open/url=cpurl%3A%2F%2Fapps.cp.%2Fapps%2FTopNews%23%2Ftn%2FSP_PAGE_060\" data-type=\"cpurl\" data-cpurl=\"cpurl://apps.cp./apps/TopNews#/tn/SP_PAGE_060\" translate=\"no\">Open</a>\r\n",
       "  * Thomson ONE: visit topnews.thomsonone.com/topnews\r\n",
       "..............................................................................\r\n",
       "For the latest top breaking news across all markets, click: [<a href=\"reuters://REALTIME/verb=Headlines/ric=NEWS1\" data-type=\"newsExpression\" data-expression=\"NEWS1\" translate=\"no\" dir=\"ltr\">NEWS1</a>]\r\n",
       "..............................................................................</pre><p class=\"line-break\"><br/></p><p>TOP NEWS SUMMARIES ON OTHER SUBJECTS</p><pre>  Front Page               [<a href=\"reuters://REALTIME/verb=Headlines/ric=TOP/NEWS\" data-type=\"newsExpression\" data-expression=\"TOP/NEWS\" translate=\"no\" dir=\"ltr\">TOP/NEWS</a>]   Central Banks & Global Economy [<a href=\"reuters://REALTIME/verb=Headlines/ric=TOP/CEN\" data-type=\"newsExpression\" data-expression=\"TOP/CEN\" translate=\"no\" dir=\"ltr\">TOP/CEN</a>]\r\n",
       "  World News                  [<a href=\"reuters://REALTIME/verb=Headlines/ric=TOP/G\" data-type=\"newsExpression\" data-expression=\"TOP/G\" translate=\"no\" dir=\"ltr\">TOP/G</a>]   Global Markets              [<a href=\"reuters://REALTIME/verb=Headlines/ric=TOP/GLOMKT\" data-type=\"newsExpression\" data-expression=\"TOP/GLOMKT\" translate=\"no\" dir=\"ltr\">TOP/GLOMKT</a>]\r\n",
       "  Foreign Exchange          [<a href=\"reuters://REALTIME/verb=Headlines/ric=TOP/FRX\" data-type=\"newsExpression\" data-expression=\"TOP/FRX\" translate=\"no\" dir=\"ltr\">TOP/FRX</a>]   Fixed Income                   [<a href=\"reuters://REALTIME/verb=Headlines/ric=TOP/DBT\" data-type=\"newsExpression\" data-expression=\"TOP/DBT\" translate=\"no\" dir=\"ltr\">TOP/DBT</a>]\r\n",
       "  Emerging Markets         [<a href=\"reuters://REALTIME/verb=Headlines/ric=TOP/EMRG\" data-type=\"newsExpression\" data-expression=\"TOP/EMRG\" translate=\"no\" dir=\"ltr\">TOP/EMRG</a>]   Financial Services             [<a href=\"reuters://REALTIME/verb=Headlines/ric=TOP/FIN\" data-type=\"newsExpression\" data-expression=\"TOP/FIN\" translate=\"no\" dir=\"ltr\">TOP/FIN</a>]\r\n",
       "  Investment Banking      [<a href=\"reuters://REALTIME/verb=Headlines/ric=TOP/DEALS\" data-type=\"newsExpression\" data-expression=\"TOP/DEALS\" translate=\"no\" dir=\"ltr\">TOP/DEALS</a>]   Sustainable Finance         [<a href=\"reuters://REALTIME/verb=Headlines/ric=TOP/SUSFIN\" data-type=\"newsExpression\" data-expression=\"TOP/SUSFIN\" translate=\"no\" dir=\"ltr\">TOP/SUSFIN</a>]\r\n",
       "  IFR Markets              [<a href=\"reuters://REALTIME/verb=Headlines/ric=TOP/NOW2\" data-type=\"newsExpression\" data-expression=\"TOP/NOW2\" translate=\"no\" dir=\"ltr\">TOP/NOW2</a>]   U.S. Companies                 [<a href=\"reuters://REALTIME/verb=Headlines/ric=TOP/EQU\" data-type=\"newsExpression\" data-expression=\"TOP/EQU\" translate=\"no\" dir=\"ltr\">TOP/EQU</a>]\r\n",
       "  European Companies        [<a href=\"reuters://REALTIME/verb=Headlines/ric=TOP/EQE\" data-type=\"newsExpression\" data-expression=\"TOP/EQE\" translate=\"no\" dir=\"ltr\">TOP/EQE</a>]   Asian Companies                [<a href=\"reuters://REALTIME/verb=Headlines/ric=TOP/EQA\" data-type=\"newsExpression\" data-expression=\"TOP/EQA\" translate=\"no\" dir=\"ltr\">TOP/EQA</a>]\r\n",
       "  Commodities                [<a href=\"reuters://REALTIME/verb=Headlines/ric=TOP/CE\" data-type=\"newsExpression\" data-expression=\"TOP/CE\" translate=\"no\" dir=\"ltr\">TOP/CE</a>]   Energy                           [<a href=\"reuters://REALTIME/verb=Headlines/ric=TOP/O\" data-type=\"newsExpression\" data-expression=\"TOP/O\" translate=\"no\" dir=\"ltr\">TOP/O</a>]\r\n",
       "  Metals                    [<a href=\"reuters://REALTIME/verb=Headlines/ric=TOP/MTL\" data-type=\"newsExpression\" data-expression=\"TOP/MTL\" translate=\"no\" dir=\"ltr\">TOP/MTL</a>]   Agricultural Commodities       [<a href=\"reuters://REALTIME/verb=Headlines/ric=TOP/GRO\" data-type=\"newsExpression\" data-expression=\"TOP/GRO\" translate=\"no\" dir=\"ltr\">TOP/GRO</a>]\r\n",
       "  Global Gas Power & Gas    [<a href=\"reuters://REALTIME/verb=Headlines/ric=TOP/ELE\" data-type=\"newsExpression\" data-expression=\"TOP/ELE\" translate=\"no\" dir=\"ltr\">TOP/ELE</a>]   Industrials & Transport      [<a href=\"reuters://REALTIME/verb=Headlines/ric=TOP/BASIC\" data-type=\"newsExpression\" data-expression=\"TOP/BASIC\" translate=\"no\" dir=\"ltr\">TOP/BASIC</a>]\r\n",
       "  Basic Materials          [<a href=\"reuters://REALTIME/verb=Headlines/ric=TOP/BMAT\" data-type=\"newsExpression\" data-expression=\"TOP/BMAT\" translate=\"no\" dir=\"ltr\">TOP/BMAT</a>]   Healthcare & Pharma         [<a href=\"reuters://REALTIME/verb=Headlines/ric=TOP/HEALTH\" data-type=\"newsExpression\" data-expression=\"TOP/HEALTH\" translate=\"no\" dir=\"ltr\">TOP/HEALTH</a>]\r\n",
       "  Technology, Media,Telecoms [<a href=\"reuters://REALTIME/verb=Headlines/ric=TOP/TMT\" data-type=\"newsExpression\" data-expression=\"TOP/TMT\" translate=\"no\" dir=\"ltr\">TOP/TMT</a>]   Consumer & Retail           [<a href=\"reuters://REALTIME/verb=Headlines/ric=TOP/RETAIL\" data-type=\"newsExpression\" data-expression=\"TOP/RETAIL\" translate=\"no\" dir=\"ltr\">TOP/RETAIL</a>]\r\n",
       "  Sport                     [<a href=\"reuters://REALTIME/verb=Headlines/ric=TOP/SPO\" data-type=\"newsExpression\" data-expression=\"TOP/SPO\" translate=\"no\" dir=\"ltr\">TOP/SPO</a>]   Lifestyle & Entertainment     [<a href=\"reuters://REALTIME/verb=Headlines/ric=TOP/LIFE\" data-type=\"newsExpression\" data-expression=\"TOP/LIFE\" translate=\"no\" dir=\"ltr\">TOP/LIFE</a>]\r\n",
       "  Top News Directory           [<a href=\"reuters://REALTIME/verb=Headlines/ric=TOP/\" data-type=\"newsExpression\" data-expression=\"TOP/\" translate=\"no\" dir=\"ltr\">TOP/</a>]   Reuters BREAKINGVIEWS              [<a href=\"reuters://REALTIME/verb=Headlines/ric=BRV\" data-type=\"newsExpression\" data-expression=\"BRV\" translate=\"no\" dir=\"ltr\">BRV</a>]</pre><p class=\"line-break\"><br/></p><p class=\"line-break\"><br/></p><p>REGIONAL TOP NEWS PAGES</p><pre>  United States                         [<a href=\"reuters://REALTIME/verb=Headlines/ric=TOP/US\" data-type=\"newsExpression\" data-expression=\"TOP/US\" translate=\"no\" dir=\"ltr\">TOP/US</a>]   Australia & New Zealand           [<a href=\"reuters://REALTIME/verb=Headlines/ric=TOP/ANZ\" data-type=\"newsExpression\" data-expression=\"TOP/ANZ\" translate=\"no\" dir=\"ltr\">TOP/ANZ</a>]\r\n",
       "  Greater China, Japan & the Koreas [<a href=\"reuters://REALTIME/verb=Headlines/ric=TOP/CNJPKR\" data-type=\"newsExpression\" data-expression=\"TOP/CNJPKR\" translate=\"no\" dir=\"ltr\">TOP/CNJPKR</a>]   South & Southeast Asia, Aus/NZ [<a href=\"reuters://REALTIME/verb=Headlines/ric=TOP/SEAANZ\" data-type=\"newsExpression\" data-expression=\"TOP/SEAANZ\" translate=\"no\" dir=\"ltr\">TOP/SEAANZ</a>]\r\n",
       "  Europe, UK & Russia               [<a href=\"reuters://REALTIME/verb=Headlines/ric=TOP/EUUKRU\" data-type=\"newsExpression\" data-expression=\"TOP/EUUKRU\" translate=\"no\" dir=\"ltr\">TOP/EUUKRU</a>]   Deutschland (in German)            [<a href=\"reuters://REALTIME/verb=Headlines/ric=TOP/DE\" data-type=\"newsExpression\" data-expression=\"TOP/DE\" translate=\"no\" dir=\"ltr\">TOP/DE</a>]\r\n",
       "  Canada                              [<a href=\"reuters://REALTIME/verb=Headlines/ric=TOP/CAN\" data-type=\"newsExpression\" data-expression=\"TOP/CAN\" translate=\"no\" dir=\"ltr\">TOP/CAN</a>]   France (in French)                [<a href=\"reuters://REALTIME/verb=Headlines/ric=TOP/FRA\" data-type=\"newsExpression\" data-expression=\"TOP/FRA\" translate=\"no\" dir=\"ltr\">TOP/FRA</a>]\r\n",
       "  Latin America                      [<a href=\"reuters://REALTIME/verb=Headlines/ric=TOP/LATAM\" data-type=\"newsExpression\" data-expression=\"TOP/LATAM\" translate=\"no\" dir=\"ltr\">TOP/LATAM</a>]   Brazil (in Portuguese)             [<a href=\"reuters://REALTIME/verb=Headlines/ric=TOP/BR\" data-type=\"newsExpression\" data-expression=\"TOP/BR\" translate=\"no\" dir=\"ltr\">TOP/BR</a>]\r\n",
       "  Middle East & Africa                [<a href=\"reuters://REALTIME/verb=Headlines/ric=TOP/MEAF\" data-type=\"newsExpression\" data-expression=\"TOP/MEAF\" translate=\"no\" dir=\"ltr\">TOP/MEAF</a>]</pre><p class=\"line-break\"><br/></p><pre>.............................................................................</pre><p>NOTE: Access to some items may depend on subscription level</p><pre>..............................................................................</pre><p>UP-TO-THE-MINUTE HEADLINES</p><pre>  Economic news                   [<a href=\"reuters://REALTIME/verb=Headlines/ric=M\" data-type=\"newsExpression\" data-expression=\"M\" translate=\"no\" dir=\"ltr\">M</a>]   Economic indicators              [<a href=\"reuters://REALTIME/verb=Headlines/ric=M-ECI\" data-type=\"newsExpression\" data-expression=\"M-ECI\" translate=\"no\" dir=\"ltr\">M-ECI</a>]\r\n",
       "  G7 live indicators           &lt;<a href=\"reuters://REALTIME/Verb=FullQuote/ric=ECON\" data-type=\"ric\" data-ric=\"ECON\" translate=\"no\" dir=\"ltr\">ECON</a>&gt;   Central bank news                [<a href=\"reuters://REALTIME/verb=Headlines/ric=M-CEN\" data-type=\"newsExpression\" data-expression=\"M-CEN\" translate=\"no\" dir=\"ltr\">M-CEN</a>]\r\n",
       "  U.S. company news               [<a href=\"reuters://REALTIME/verb=Headlines/ric=U\" data-type=\"newsExpression\" data-expression=\"U\" translate=\"no\" dir=\"ltr\">U</a>]   European companies            [<a href=\"reuters://REALTIME/verb=Headlines/ric=E-EUROPE\" data-type=\"newsExpression\" data-expression=\"E-EUROPE\" translate=\"no\" dir=\"ltr\">E-EUROPE</a>]\r\n",
       "  Asian companies            [<a href=\"reuters://REALTIME/verb=Headlines/ric=E-ASIA\" data-type=\"newsExpression\" data-expression=\"E-ASIA\" translate=\"no\" dir=\"ltr\">E-ASIA</a>]   Mergers & acquisitions           [<a href=\"reuters://REALTIME/verb=Headlines/ric=E-MRG\" data-type=\"newsExpression\" data-expression=\"E-MRG\" translate=\"no\" dir=\"ltr\">E-MRG</a>]</pre><p class=\"line-break\"><br/></p><p>LIVE PRICES & DATA</p><pre>  World Stocks             &lt;<a href=\"reuters://REALTIME/Verb=FullQuote/ric=0#.INDEX\" data-type=\"ric\" data-ric=\"0#.INDEX\" translate=\"no\" dir=\"ltr\">0#.INDEX</a>&gt;   S&P 500                           &lt;<a href=\"reuters://REALTIME/Verb=FullQuote/ric=.SPX\" data-type=\"ric\" data-ric=\".SPX\" translate=\"no\" dir=\"ltr\">.SPX</a>&gt;\r\n",
       "  Dow Jones industrials        &lt;<a href=\"reuters://REALTIME/Verb=FullQuote/ric=.DJI\" data-type=\"ric\" data-ric=\".DJI\" translate=\"no\" dir=\"ltr\">.DJI</a>&gt;   Nasdaq                           &lt;<a href=\"reuters://REALTIME/Verb=FullQuote/ric=.IXIC\" data-type=\"ric\" data-ric=\".IXIC\" translate=\"no\" dir=\"ltr\">.IXIC</a>&gt;\r\n",
       "  FTSEurofirst 300           &lt;<a href=\"reuters://REALTIME/Verb=FullQuote/ric=.FTEU3\" data-type=\"ric\" data-ric=\".FTEU3\" translate=\"no\" dir=\"ltr\">.FTEU3</a>&gt;   Nikkei                           &lt;<a href=\"reuters://REALTIME/Verb=FullQuote/ric=.N225\" data-type=\"ric\" data-ric=\".N225\" translate=\"no\" dir=\"ltr\">.N225</a>&gt;\r\n",
       "  FTSE 100                    &lt;<a href=\"reuters://REALTIME/Verb=FullQuote/ric=.FTSE\" data-type=\"ric\" data-ric=\".FTSE\" translate=\"no\" dir=\"ltr\">.FTSE</a>&gt;   Currency rates             &lt;<a href=\"reuters://REALTIME/Verb=FullQuote/ric=EFX=\" data-type=\"ric\" data-ric=\"EFX=\" translate=\"no\" dir=\"ltr\">EFX=</a>&gt; &lt;<a href=\"reuters://REALTIME/Verb=FullQuote/ric=NFX=\" data-type=\"ric\" data-ric=\"NFX=\" translate=\"no\" dir=\"ltr\">NFX=</a>&gt;\r\n",
       "  Debt            &lt;<a href=\"reuters://REALTIME/Verb=FullQuote/ric=0#USBMK=\" data-type=\"ric\" data-ric=\"0#USBMK=\" translate=\"no\" dir=\"ltr\">0#USBMK=</a>&gt; &lt;<a href=\"reuters://REALTIME/Verb=FullQuote/ric=EURIBOR\" data-type=\"ric\" data-ric=\"EURIBOR\" translate=\"no\" dir=\"ltr\">EURIBOR</a>&gt;   Gold                              &lt;<a href=\"reuters://REALTIME/Verb=FullQuote/ric=XAU=\" data-type=\"ric\" data-ric=\"XAU=\" translate=\"no\" dir=\"ltr\">XAU=</a>&gt;\r\n",
       "  Brent crude                 &lt;<a href=\"reuters://REALTIME/Verb=FullQuote/ric=LCOc1\" data-type=\"ric\" data-ric=\"LCOc1\" translate=\"no\" dir=\"ltr\">LCOc1</a>&gt;   U.S. crude                        &lt;<a href=\"reuters://REALTIME/Verb=FullQuote/ric=CLc1\" data-type=\"ric\" data-ric=\"CLc1\" translate=\"no\" dir=\"ltr\">CLc1</a>&gt; </pre><p class=\"line-break\"><br/></p><p>GUIDES ON HOW TO FIND THE DATA & NEWS INFORMATION YOU NEED:</p><pre> | &lt;<a href=\"reuters://REALTIME/Verb=FullQuote/ric=REUTERS\" data-type=\"ric\" data-ric=\"REUTERS\" translate=\"no\" dir=\"ltr\">REUTERS</a>&gt;  | &lt;<a href=\"reuters://REALTIME/Verb=FullQuote/ric=NEWS\" data-type=\"ric\" data-ric=\"NEWS\" translate=\"no\" dir=\"ltr\">NEWS</a>&gt;   | &lt;<a href=\"reuters://REALTIME/Verb=FullQuote/ric=PHONE/HELP\" data-type=\"ric\" data-ric=\"PHONE/HELP\" translate=\"no\" dir=\"ltr\">PHONE/HELP</a>&gt;   | &lt;<a href=\"reuters://REALTIME/Verb=FullQuote/ric=USER/HELP\" data-type=\"ric\" data-ric=\"USER/HELP\" translate=\"no\" dir=\"ltr\">USER/HELP</a>&gt;   | &lt;<a href=\"reuters://REALTIME/Verb=FullQuote/ric=GB/EQUITY\" data-type=\"ric\" data-ric=\"GB/EQUITY\" translate=\"no\" dir=\"ltr\">GB/EQUITY</a>&gt; |\r\n",
       " | &lt;<a href=\"reuters://REALTIME/Verb=FullQuote/ric=EQUITY\" data-type=\"ric\" data-ric=\"EQUITY\" translate=\"no\" dir=\"ltr\">EQUITY</a>&gt;   | &lt;<a href=\"reuters://REALTIME/Verb=FullQuote/ric=BONDS\" data-type=\"ric\" data-ric=\"BONDS\" translate=\"no\" dir=\"ltr\">BONDS</a>&gt;  | &lt;<a href=\"reuters://REALTIME/Verb=FullQuote/ric=MONEY\" data-type=\"ric\" data-ric=\"MONEY\" translate=\"no\" dir=\"ltr\">MONEY</a>&gt;        | &lt;<a href=\"reuters://REALTIME/Verb=FullQuote/ric=COMMODITY\" data-type=\"ric\" data-ric=\"COMMODITY\" translate=\"no\" dir=\"ltr\">COMMODITY</a>&gt;   | &lt;<a href=\"reuters://REALTIME/Verb=FullQuote/ric=ENERGY\" data-type=\"ric\" data-ric=\"ENERGY\" translate=\"no\" dir=\"ltr\">ENERGY</a>&gt; |\r\n",
       " | &lt;<a href=\"reuters://REALTIME/Verb=FullQuote/ric=TREASURY\" data-type=\"ric\" data-ric=\"TREASURY\" translate=\"no\" dir=\"ltr\">TREASURY</a>&gt; | &lt;<a href=\"reuters://REALTIME/Verb=FullQuote/ric=DERIV\" data-type=\"ric\" data-ric=\"DERIV\" translate=\"no\" dir=\"ltr\">DERIV</a>&gt;  | &lt;<a href=\"reuters://REALTIME/Verb=FullQuote/ric=SHIPPING\" data-type=\"ric\" data-ric=\"SHIPPING\" translate=\"no\" dir=\"ltr\">SHIPPING</a>&gt;     |\r\n",
       ".................................................................................\r\n",
       "Page Editor: <a href=\"mailto:Bangalore-pages@thomsonreuters.com\" data-type=\"email\" translate=\"no\">Bangalore-pages@thomsonreuters.com</a>; phone +1 651 848 5900 or +91 80 6749 1306\r\n",
       ".................................................................................</pre><p class=\"line-break\"><br/></p><p class=\"tr-slugline\">Keywords: *TOP NEWS* ENERGY/</p></div>"
      ],
      "text/plain": [
       "<IPython.core.display.HTML object>"
      ]
     },
     "execution_count": 98,
     "metadata": {},
     "output_type": "execute_result"
    }
   ],
   "source": [
    "top_news_story = ek.get_news_story(story_id)\n",
    "HTML(top_news_story)"
   ]
  },
  {
   "cell_type": "markdown",
   "id": "ddca6577-babc-4d21-ab1f-a2fa312be649",
   "metadata": {},
   "source": [
    "##### Step 3.1 ) Get headlines using the code below"
   ]
  },
  {
   "cell_type": "code",
   "execution_count": 99,
   "id": "a1b4a0e4-bf03-477a-a065-c8d855b4a101",
   "metadata": {},
   "outputs": [
    {
     "data": {
      "text/plain": [
       "['Traders warn of Russia-related diesel and gas shortages',\n",
       " 'Pricing rows and sanctions choke Russian ESPO oil trade',\n",
       " \"Saudi Arabia emphasizes 'essential role' of OPEC+ oil accord\",\n",
       " 'Platts allows traders to specify restrictions on oil product origins',\n",
       " 'ANALYSIS-Climate goals take second place as EU states cut petrol prices',\n",
       " 'Oil dips as dollar rises, EU looks less likely to ban Russian oil',\n",
       " 'EXCLUSIVE-Petroperu will not submit annual financial audit before late July, says',\n",
       " 'PKN Orlen buys Norwegian crude to replace Russian Urals',\n",
       " 'Gunvor traded volumes lower in extreme markets, open to partner - CEO',\n",
       " 'COLUMN-Hedge funds cut oil positions as volatility surges: Kemp',\n",
       " 'EXCLUSIVE-Mexico flared record levels of gas in 2021 -study',\n",
       " 'Italy eyes almost 4 billion euro profit clawback from energy companies',\n",
       " 'Chevron California refinery workers strike; fuel prices seen unaffected',\n",
       " 'ANALYSIS-Europe split on how to spare consumers energy price pain',\n",
       " \"India's top fuel retailer to up petrol, diesel prices again from Wednesday\"]"
      ]
     },
     "execution_count": 99,
     "metadata": {},
     "output_type": "execute_result"
    }
   ],
   "source": [
    "# Use BeautifulSoup library as html parsing text and get \"data-story-id\" which is the story that contain in Top NEWS story\n",
    "\n",
    "soup = BeautifulSoup(top_news_story)\n",
    "\n",
    "all_pre = soup.findAll('pre')\n",
    "\n",
    "input_text = all_pre[0].text\n",
    "list_headline = input_text.replace('> ', '').replace('(Full Story)','').split('\\r\\n')\n",
    "list_headline = [headline.strip() for headline in list_headline]\n",
    "print(list_headline)"
   ]
  },
  {
   "cell_type": "markdown",
   "id": "c24b1e60-d18c-4bbc-b1c6-28b6173c47ec",
   "metadata": {},
   "source": [
    "##### Step 3.2 ) Get Top News stories\n",
    "##### 3.2.1 ) Get story Ids using the code below"
   ]
  },
  {
   "cell_type": "code",
   "execution_count": 100,
   "id": "bfdcc84d-1af8-434b-94af-cd9903759b46",
   "metadata": {},
   "outputs": [
    {
     "name": "stdout",
     "output_type": "stream",
     "text": [
      "['nL2N2VP0K8', 'nL5N2VP28P', 'nL2N2VP11J', 'nL2N2VP1GD', 'nL5N2VO50L', 'nL2N2VP05F', 'nL2N2VP1KX', 'nL5N2VO51E', 'nS8N2LA03R', 'nL2N2VO12M', 'nL2N2VM088', 'nL5N2VP22U', 'nL2N2VO22N', 'nL3N2VL2CK', 'nL3N2VP3KY']\n"
     ]
    }
   ],
   "source": [
    "list_topnews_story_id = []\n",
    "for story_id in soup.findAll('a'):\n",
    "    if story_id.get('data-type') == 'storyId':\n",
    "        list_topnews_story_id.append(story_id.get('data-story-id'))\n",
    "print(list_topnews_story_id)"
   ]
  },
  {
   "cell_type": "markdown",
   "id": "20130523-4d73-44cd-88f8-af2ad6071941",
   "metadata": {},
   "source": [
    "##### 3.2.1 ) Use story IDs to retrieve news story\n",
    "**To retrieve latest news story**"
   ]
  },
  {
   "cell_type": "code",
   "execution_count": 62,
   "id": "350869ea-79bc-4c2e-a141-5774ca379b4a",
   "metadata": {},
   "outputs": [
    {
     "name": "stdout",
     "output_type": "stream",
     "text": [
      "Story ID: nL2N2VP0K8\n"
     ]
    },
    {
     "data": {
      "text/html": [
       "<div class=\"storyContent\" lang=\"en\"><style type=\"text/css\">.storyContent * {border-color:inherit !important;outline-color:inherit !important;}</style><ul class=\"bulleted-list arrowlist\"><li class=\"tr-summaryitem\">Energy markets face struggle to absorb lost Russian oil</li><li class=\"tr-summaryitem\">Russia is one of the word's biggest oil exporters</li><li class=\"tr-summaryitem\">Diesel supplies a major concern for Europe</li></ul><p class=\"tr-advisory\">Recasts, adds Trafigura and Gunvor CEO comment, changes dateline to Lausanne</p><p class=\"tr-by\">By Julia Payne</p><p class=\"tr-story-p1\"><span class=\"tr-dateline\">LAUSANNE, March 22 (Reuters)</span><span class=\"tr-dl-sep\"> - </span>Energy and commodity markets are in shock after Russia's invasion of Ukraine, the world's top trading firms said on Tuesday, warning of gas and diesel shortages in Europe and economic recession if Russian flows fall further. </p><p>Prices across gas, oil, metals and agricultural markets have soared since the invasion and become so volatile that companies have had to cut traded volumes owing to strained liquidity. </p><p>The chief executives of three of the biggest energy traders - Vitol, Gunvor and Trafigura - said the gas market in particular had become dysfunctional owing to unmanageable margin calls. </p><p>\"The longer the war goes on, the greater the chance of an economic recession,\" Vitol CEO Russell Hardy told the FT Commodities Global Summit.</p><p>Russia calls the biggest invasion in Europe since World War Two a \"special military operation\" to disarm Ukraine and protect it from \"Nazis\". The West says this a false pretext for an unprovoked war against a democratic country.</p><p>Energy markets had little spare capacity even before Russia launched its invasion on Feb. 24. They will now struggle to absorb the potential loss of about 2 million barrels per day (bpd) of oil from Russia, which competes with Saudi Arabia as the world's biggest oil exporters. </p><p>Though sanctions have not been imposed on Russian oil globally, companies far and wide have been boycotting Russian commodities.</p><p>\"Many people across Europe wish to boycott Russian oil,\" Hardy said, adding that it is unclear as yet how much oil would be lost.</p><p>Trafigura Chief Executive Jeremy Weir pegged lost Russian crude and products so far at between 2 million and 2.5 million bpd. Vitol and Gunvor, on the other hand, said the decline is not immediately calculable but they do not see the shortfall exceeding 3 million bpd.</p><p>The three businesses have halted spot purchases of Russian oil but are seeing out existing longer-term contracts.</p><p><br/></p><p>DIESEL SHORTAGES?</p><p>The top concern for Europe is diesel. Europe imports half of its needs from Russia and could face shortages, the trading companies said, with Trafigura adding that Latin America and Africa could also be hit hard. </p><p>Any replacement oil is likely to be months away. Iran could increase exports by 1 million bpd provided that an international nuclear deal is signed, but the Organization of Petroleum Exporting Countries (OPEC) and its allies are unlikely to increase output faster, Hardy said. </p><p>\"They've been fairly clear up til now that they will continue with their OPEC+ agreement,\" Hardy said, adding that African countries in particular had less oil to spare than before the COVID-19 pandemic.</p><p>\"Are we expecting a 1-2 million bpd increase? Yes, but not likely in the next couple of months,\" he said. </p><p>Hedging in futures markets, particularly for natural gas, has become difficult to manage as strained credit lines force market participants to cut positions, which in turn contributes even more volatility. <span> (<a href=\"reuters://REALTIME/verb=NewsStory/ric=nL2N2VK1BH\" data-type=\"storyId\" data-story-id=\"nL2N2VK1BH\" translate=\"no\" dir=\"ltr\" class=\"tr-pnac\">Full Story</a>)</span></p><p>The trading companies said the market was looking to regulators, central banks and governments for back-up emergency liquidity. </p><p>Gunvor's chief executive said that Dutch TTF wholesale gas futures, which are used as a European benchmark, were not fit to be used to hedge the global liquefied natural gas (LNG) market.</p><p>\"The problem is the dysfunctional TTF price because of margin calls. The tradeability of gas has exploded over the last five years and a proper benchmark to absorb that kind of volume was shown not to be there,\" said Gunvor CEO Torbjorn Tornqvist.</p><p>\"We are in the middle of a storm now. Many parties got hurt.\"</p><p>Liquidity contraints because of extreme margin calls have forced traders to focus on core business, Tornqvist said, including his own.</p><p>The initial margin is collateral, or cash, posted by clearing members to the clearing house to cover potential losses in the event of a member default. Margin calls arise when the gap between the current spot price and the future sale becomes too wide, forcing traders to increase the deposit they hold at exchanges on each trade.</p><p>\"The spot market has dried up ... Every trader is focused on core business. We are doing less volume than we normally do but we can size up again quickly,\" Tornqvist added.</p><p><br/></p><div style=\"display:none;\" class=\"tr-sandwichbox\"></div><p class=\"tr-signoff\"> (Reporting by Julia Payne<br/>Editing by Barbara Lewis and David Goodman)</p><p class=\"tr-contactinfo\">(( <a href=\"mailto:julia.payne@thomsonreuters.com\" data-type=\"email\" translate=\"no\">julia.payne@thomsonreuters.com</a> ; +44 207 542 1836; ))</p><p class=\"line-break\"><br/></p><p class=\"tr-copyright\">(c) Copyright Thomson Reuters 2022. Click For Restrictions - https://agency.reuters.com/en/copyright.html</p><p class=\"line-break\"><br/></p><p class=\"tr-slugline\">Keywords: UKRAINE-CRISIS/OIL-GAS (UPDATE 2, PIX)</p></div>"
      ],
      "text/plain": [
       "<IPython.core.display.HTML object>"
      ]
     },
     "metadata": {},
     "output_type": "display_data"
    }
   ],
   "source": [
    "# Use storyID to retrieve news story\n",
    "print(f'Story ID: {list_topnews_story_id[0]}')\n",
    "latest_story = ek.get_news_story(list_topnews_story_id[0])\n",
    "display(HTML(latest_story))"
   ]
  },
  {
   "cell_type": "markdown",
   "id": "6556e7e5-43f8-4186-b067-0ab4a69501e1",
   "metadata": {},
   "source": [
    "**An example code to retrieve all news story in the list**"
   ]
  },
  {
   "cell_type": "code",
   "execution_count": 59,
   "id": "e9f51fd8-7578-4e4b-8cda-84f322a7c3df",
   "metadata": {},
   "outputs": [
    {
     "data": {
      "text/html": [
       "<div class=\"storyContent\" lang=\"en\"><style type=\"text/css\">.storyContent * {border-color:inherit !important;outline-color:inherit !important;}</style><ul class=\"bulleted-list arrowlist\"><li class=\"tr-summaryitem\">Energy markets face struggle to absorb lost Russian oil</li><li class=\"tr-summaryitem\">Russia is one of the word's biggest oil exporters</li><li class=\"tr-summaryitem\">Diesel supplies a major concern for Europe</li></ul><p class=\"tr-advisory\">Recasts, adds Trafigura and Gunvor CEO comment, changes dateline to Lausanne</p><p class=\"tr-by\">By Julia Payne</p><p class=\"tr-story-p1\"><span class=\"tr-dateline\">LAUSANNE, March 22 (Reuters)</span><span class=\"tr-dl-sep\"> - </span>Energy and commodity markets are in shock after Russia's invasion of Ukraine, the world's top trading firms said on Tuesday, warning of gas and diesel shortages in Europe and economic recession if Russian flows fall further. </p><p>Prices across gas, oil, metals and agricultural markets have soared since the invasion and become so volatile that companies have had to cut traded volumes owing to strained liquidity. </p><p>The chief executives of three of the biggest energy traders - Vitol, Gunvor and Trafigura - said the gas market in particular had become dysfunctional owing to unmanageable margin calls. </p><p>\"The longer the war goes on, the greater the chance of an economic recession,\" Vitol CEO Russell Hardy told the FT Commodities Global Summit.</p><p>Russia calls the biggest invasion in Europe since World War Two a \"special military operation\" to disarm Ukraine and protect it from \"Nazis\". The West says this a false pretext for an unprovoked war against a democratic country.</p><p>Energy markets had little spare capacity even before Russia launched its invasion on Feb. 24. They will now struggle to absorb the potential loss of about 2 million barrels per day (bpd) of oil from Russia, which competes with Saudi Arabia as the world's biggest oil exporters. </p><p>Though sanctions have not been imposed on Russian oil globally, companies far and wide have been boycotting Russian commodities.</p><p>\"Many people across Europe wish to boycott Russian oil,\" Hardy said, adding that it is unclear as yet how much oil would be lost.</p><p>Trafigura Chief Executive Jeremy Weir pegged lost Russian crude and products so far at between 2 million and 2.5 million bpd. Vitol and Gunvor, on the other hand, said the decline is not immediately calculable but they do not see the shortfall exceeding 3 million bpd.</p><p>The three businesses have halted spot purchases of Russian oil but are seeing out existing longer-term contracts.</p><p><br/></p><p>DIESEL SHORTAGES?</p><p>The top concern for Europe is diesel. Europe imports half of its needs from Russia and could face shortages, the trading companies said, with Trafigura adding that Latin America and Africa could also be hit hard. </p><p>Any replacement oil is likely to be months away. Iran could increase exports by 1 million bpd provided that an international nuclear deal is signed, but the Organization of Petroleum Exporting Countries (OPEC) and its allies are unlikely to increase output faster, Hardy said. </p><p>\"They've been fairly clear up til now that they will continue with their OPEC+ agreement,\" Hardy said, adding that African countries in particular had less oil to spare than before the COVID-19 pandemic.</p><p>\"Are we expecting a 1-2 million bpd increase? Yes, but not likely in the next couple of months,\" he said. </p><p>Hedging in futures markets, particularly for natural gas, has become difficult to manage as strained credit lines force market participants to cut positions, which in turn contributes even more volatility. <span> (<a href=\"reuters://REALTIME/verb=NewsStory/ric=nL2N2VK1BH\" data-type=\"storyId\" data-story-id=\"nL2N2VK1BH\" translate=\"no\" dir=\"ltr\" class=\"tr-pnac\">Full Story</a>)</span></p><p>The trading companies said the market was looking to regulators, central banks and governments for back-up emergency liquidity. </p><p>Gunvor's chief executive said that Dutch TTF wholesale gas futures, which are used as a European benchmark, were not fit to be used to hedge the global liquefied natural gas (LNG) market.</p><p>\"The problem is the dysfunctional TTF price because of margin calls. The tradeability of gas has exploded over the last five years and a proper benchmark to absorb that kind of volume was shown not to be there,\" said Gunvor CEO Torbjorn Tornqvist.</p><p>\"We are in the middle of a storm now. Many parties got hurt.\"</p><p>Liquidity contraints because of extreme margin calls have forced traders to focus on core business, Tornqvist said, including his own.</p><p>The initial margin is collateral, or cash, posted by clearing members to the clearing house to cover potential losses in the event of a member default. Margin calls arise when the gap between the current spot price and the future sale becomes too wide, forcing traders to increase the deposit they hold at exchanges on each trade.</p><p>\"The spot market has dried up ... Every trader is focused on core business. We are doing less volume than we normally do but we can size up again quickly,\" Tornqvist added.</p><p><br/></p><div style=\"display:none;\" class=\"tr-sandwichbox\"></div><p class=\"tr-signoff\"> (Reporting by Julia Payne<br/>Editing by Barbara Lewis and David Goodman)</p><p class=\"tr-contactinfo\">(( <a href=\"mailto:julia.payne@thomsonreuters.com\" data-type=\"email\" translate=\"no\">julia.payne@thomsonreuters.com</a> ; +44 207 542 1836; ))</p><p class=\"line-break\"><br/></p><p class=\"tr-copyright\">(c) Copyright Thomson Reuters 2022. Click For Restrictions - https://agency.reuters.com/en/copyright.html</p><p class=\"line-break\"><br/></p><p class=\"tr-slugline\">Keywords: UKRAINE-CRISIS/OIL-GAS (UPDATE 2, PIX)</p></div>"
      ],
      "text/plain": [
       "<IPython.core.display.HTML object>"
      ]
     },
     "metadata": {},
     "output_type": "display_data"
    },
    {
     "data": {
      "text/html": [
       "<div class=\"storyContent\" lang=\"en\"><style type=\"text/css\">.storyContent * {border-color:inherit !important;outline-color:inherit !important;}</style><p class=\"tr-story-p1\"><span class=\"tr-dateline\">SINGAPORE, March 22 (Reuters)</span><span class=\"tr-dl-sep\"> - </span>Pricing disputes between buyers and sellers as Western sanctions have complicated trade in Russian oil are expected to delay sales of the Far East oil grade ESPO Blend <a href=\"reuters://REALTIME/Verb=FullQuote/ric=ESPO-DUB\" data-type=\"ric\" data-ric=\"ESPO-DUB\" translate=\"no\" dir=\"ltr\">ESPO-DUB</a> on which China relies, traders said on Tuesday.</p><p>The difficulties with ESPO add to the problems of trading other Russian oil, including Urals flagship blend, as Western sanctions make it hard to finance deals.</p><p>Almost none of the ESPO Blend cargoes for loading in May has been offered so far, when normally the trading cycle for the grade should have been completed by around this time of the month, they said.     </p><p>Asian buyers can legally trade Russian oil, but the United States has banned it following Russia's invasion of Ukraine, while the European Union is divided over a possible embargo.</p><p>Russian ESPO crude exports from the Far East port of Kozmino, at 754,000 barrels per day in April, have been China's primary source of oil on the short-term spot market.</p><p>There is still a gap of $5-$10 per barrel between offers and bids, traders said, which makes it difficult to agree on a deal.</p><p>One source at a Russian oil producer, who asked not to be named because of the sensitivity of the issue, said he had received bids as low as a discount of $30 per barrel.</p><p>Two other sources said sellers lowered their offers for May-loading cargoes to discounts of about $15 per barrel to Dubai quotes on a free-on-board basis – the widest discount yet for the grade that normally trades at premiums of $3-$5 per barrel.</p><p>A senior trade executive in Singapore said it was hard to know \"where the actual market is\", predicting available cargoes would find homes, but all into China, which has refrained from any sanctions on Russia.</p><p>Russian oil producers have adjusted their payment mechanisms for ESPO crude in order to continue with their purchases. </p><p>Chinese independent refiners that typically buy from traders on delivered basis have also worked out ways of paying for Russian oil imports. <span> (<a href=\"reuters://REALTIME/verb=NewsStory/ric=nL2N2VE131\" data-type=\"storyId\" data-story-id=\"nL2N2VE131\" translate=\"no\" dir=\"ltr\" class=\"tr-pnac\">Full Story</a>)</span><span> (<a href=\"reuters://REALTIME/verb=NewsStory/ric=nL3N2V60K7\" data-type=\"storyId\" data-story-id=\"nL3N2V60K7\" translate=\"no\" dir=\"ltr\" class=\"tr-pnac\">Full Story</a>)</span></p><p><br/></p><p class=\"tr-signoff\"> (Reporting by Florence Tan; editing by Barbara Lewis)</p><p class=\"line-break\"><br/></p><p class=\"tr-copyright\">(c) Copyright Thomson Reuters 2022. Click For Restrictions - https://agency.reuters.com/en/copyright.html</p><p class=\"line-break\"><br/></p><p class=\"tr-slugline\">Keywords: RUSSIA-OIL/ASIA</p></div>"
      ],
      "text/plain": [
       "<IPython.core.display.HTML object>"
      ]
     },
     "metadata": {},
     "output_type": "display_data"
    },
    {
     "data": {
      "text/html": [
       "<div class=\"storyContent\" lang=\"en\"><style type=\"text/css\">.storyContent * {border-color:inherit !important;outline-color:inherit !important;}</style><p class=\"tr-advisory\">Adds details, quote from OPEC+ source</p><p class=\"tr-story-p1\"><span class=\"tr-dateline\">March 22 (Reuters)</span><span class=\"tr-dl-sep\"> - </span>Saudi Arabia's cabinet emphasised on Tuesday \"the essential role\" of the OPEC+ agreement in bringing balance and stability to oil markets, Saudi state news agency SPA reported.</p><p>The statement, a little over a week before OPEC+ is scheduled to meet, indicates little chance the grouping will decide to raise oil output at a faster pace.</p><p>Several major consuming nations, including the United States, have called on producers to raise their output at a faster rate to help calm crude oil prices, which have soared on the back of Russia's invasion of Ukraine. </p><p>OPEC+, which groups the Organization of Petroleum Exporting Countries and its allies including Russia, has so far resisted calls to increase supply. </p><p>The alliance has been raising output by 400,000 barrels per day (bpd) each month since August to unwind cuts made when the COVID-19 pandemic hit demand. </p><p>Saudi Arabia, and to a lesser extent the United Arab Emirates, hold the bulk of OPEC spare capacity. The group is set to meet on March 31. </p><p>\"I do not think OPEC+ will make a new decision at its next meeting, because most OPEC members see the current price increase as a result of geopolitical factors,\" one OPEC+ source said. </p><p>\"At the same time, it is unlikely that the pressure of Western governments on important OPEC countries to increase their production will be fruitful.\" </p><p>The Saudi cabinet on Tuesday also called on the international community to assume responsibility in maintaining energy supplies and to be aware of the danger of Iran supplying Yemen's Houthis with ballistic missiles and drones.</p><p>Houthi attacks against state-owned Aramco facilities over the weekend caused output to temporarily drop at a refinery. </p><p>In a sign of growing frustration with Washington's handling of Yemen and Iran, the kingdom said on Monday it would not bear responsibility for any global supply shortage as a result of Houthi attacks on its installations. <span> (<a href=\"reuters://REALTIME/verb=NewsStory/ric=nL2N2VO0LQ\" data-type=\"storyId\" data-story-id=\"nL2N2VO0LQ\" translate=\"no\" dir=\"ltr\" class=\"tr-pnac\">Full Story</a>)</span> </p><p><br/></p><p class=\"tr-signoff\"> (Reporting by Nayera Abdallah, Maha El Dahan and Alex Lawler, Editing by Louise Heavens and Alexander Smith)</p><p class=\"tr-contactinfo\">(( <a href=\"mailto:Nayera.Abdallah@thomsonreuters.com\" data-type=\"email\" translate=\"no\">Nayera.Abdallah@thomsonreuters.com</a> ;))</p><p class=\"line-break\"><br/></p><p class=\"tr-copyright\">(c) Copyright Thomson Reuters 2022. Click For Restrictions - https://agency.reuters.com/en/copyright.html</p><p class=\"line-break\"><br/></p><p class=\"tr-slugline\">Keywords: SAUDI-OPEC/ (UPDATE 1, PIX)</p></div>"
      ],
      "text/plain": [
       "<IPython.core.display.HTML object>"
      ]
     },
     "metadata": {},
     "output_type": "display_data"
    },
    {
     "data": {
      "text/html": [
       "<div class=\"storyContent\" lang=\"en\"><style type=\"text/css\">.storyContent * {border-color:inherit !important;outline-color:inherit !important;}</style><p class=\"tr-advisory\">Adds detail</p><p class=\"tr-story-p1\"><span class=\"tr-dateline\">LONDON, March 22 (Reuters)</span><span class=\"tr-dl-sep\"> - </span>S&amp;P Global Platts said on Tuesday its trading platform would allow participants to specify any restrictions on the origin of products, in a move that could make it easier for market players to boycott Russian oil. </p><p>The company, which also publishes daily prices for oil and oil products, said it was making the change based on feedback from participants in the European oil product markets.</p><p>\"Given the importance of verifiable market information, particularly at a time of such uncertainty and volatility, Platts will publish bids, offers and indications to trade that include restrictions on origin, where appropriate,\" the agency said. </p><p>It said European market players were increasingly seeking to include restrictions on the oil products they trade relating to the provenance and ownership of the material, its origin and/or transport arrangements. </p><p>While the announcement did not mention Russia by name, many oil majors and traders have said they have stopped buying oil  from Russia since its invasion of Ukraine on Feb. 24.</p><p>Oil major Shell <a href=\"reuters://REALTIME/Verb=FullQuote/ric=SHEL.L\" data-type=\"ric\" data-ric=\"SHEL.L\" translate=\"no\" dir=\"ltr\">SHEL.L</a>, was one of the first companies to say it would stop buying Russian oil and was followed by others including Italy's ENI <a href=\"reuters://REALTIME/Verb=FullQuote/ric=ENI.MI\" data-type=\"ric\" data-ric=\"ENI.MI\" translate=\"no\" dir=\"ltr\">ENI.MI</a> and Norway's Equinor <a href=\"reuters://REALTIME/Verb=FullQuote/ric=EQNR.OL\" data-type=\"ric\" data-ric=\"EQNR.OL\" translate=\"no\" dir=\"ltr\">EQNR.OL</a>.</p><p>Russel Hardy, chief executive of the world's largest oil trader Vitol, said on Tuesday customers did not want to buy  Russian oil. <span> (<a href=\"reuters://REALTIME/verb=NewsStory/ric=nL2N2VP0K8\" data-type=\"storyId\" data-story-id=\"nL2N2VP0K8\" translate=\"no\" dir=\"ltr\" class=\"tr-pnac\">Full Story</a>)</span>  </p><p>He added the trading firm had stopped spot purchases of Russian oil, although it has maintained existing longer term contracts.</p><p><br/></p><p class=\"tr-signoff\"> (Reporting by Ahmad Ghaddar  Editing by Jane Merriman and Mark Potter)</p><p class=\"tr-contactinfo\">(( <a href=\"mailto:Ahmad.Ghaddar@thomsonreuters.com\" data-type=\"email\" translate=\"no\">Ahmad.Ghaddar@thomsonreuters.com</a> ; +442075424435; Reuters Messaging: <a href=\"rm://ahmad.ghaddar.thomsonreuters.com@reuters.net\" data-type=\"url\" class=\"tr-link\" translate=\"no\">ahmad.ghaddar.thomsonreuters.com@reuters.net</a> ))</p><p class=\"line-break\"><br/></p><p class=\"tr-copyright\">(c) Copyright Thomson Reuters 2022. Click For Restrictions - https://agency.reuters.com/en/copyright.html</p><p class=\"line-break\"><br/></p><p class=\"tr-slugline\">Keywords: OIL-PRODUCTS/ (UPDATE 1)</p></div>"
      ],
      "text/plain": [
       "<IPython.core.display.HTML object>"
      ]
     },
     "metadata": {},
     "output_type": "display_data"
    },
    {
     "data": {
      "text/html": [
       "<div class=\"storyContent\" lang=\"en\"><style type=\"text/css\">.storyContent * {border-color:inherit !important;outline-color:inherit !important;}</style><ul class=\"bulleted-list arrowlist\"><li class=\"tr-summaryitem\">War in Ukraine drives surging fuel costs higher</li><li class=\"tr-summaryitem\">EU states lower pump petrol prices</li><li class=\"tr-summaryitem\">Environmentalists say moves go in wrong direction</li><li class=\"tr-summaryitem\">Issue sparks political tension in Germany</li></ul><p class=\"tr-by\">By Gavin Jones</p><p class=\"tr-story-p1\"><span class=\"tr-dateline\">ROME, March 22 (Reuters)</span><span class=\"tr-dl-sep\"> - </span>A growing number of European countries are cutting fuel taxes to lower surging pump petrol prices. The move brings respite to motorists but environmentalists say it flies in the face of commitments to curb global warming.</p><p>Rising international oil costs, exacerbated by the war in Ukraine, have driven petrol above 2 euros ($2.21) per litre in much of Europe for the first time, placing a huge burden on car owners and industry.</p><p>Fuel costs triggered France's \"yellow vest\" protest movement in 2018. They are always a sensitive political issue and governments, keen to head off motorists' anger, are now taking action.</p><p>Italy said on Friday it would cut the price of petrol and diesel by 25 cents per litre until the end of April, funding the measure with a one-off tax on energy firms whose profits have surged in the last six months. <span> (<a href=\"reuters://REALTIME/verb=NewsStory/ric=nL2N2VL1Z0\" data-type=\"storyId\" data-story-id=\"nL2N2VL1Z0\" translate=\"no\" dir=\"ltr\" class=\"tr-pnac\">Full Story</a>)</span>.</p><p>France has promised a rebate of 15 cents per litre for four months from April 1 at a cost of almost 3 billion euros for state coffers, and Sweden has announced similar measures. Both countries face elections this year. <span> (<a href=\"reuters://REALTIME/verb=NewsStory/ric=nL2N2VF0EJ\" data-type=\"storyId\" data-story-id=\"nL2N2VF0EJ\" translate=\"no\" dir=\"ltr\" class=\"tr-pnac\">Full Story</a>)</span> </p><p>However, climate activists and some economists criticise the approach, saying politicians are reneging on pledges to cut fossil fuel subsidies and are responding to the fuel price emergency at the cost of the climate crisis. </p><p>\"What governments are doing clearly goes in the wrong direction, they should be reducing subsidies that hurt the environment and instead they are increasing them,\" said Michele Governatori of the Italian climate and energy think-thank ECCO.</p><p>He said countries should offer financial incentives for people to use public transport, car-sharing or other means of ecological mobility. Alternatively, simple cash handouts would provide support for the needy which they can spend on petrol if necessary, but without directly encouraging car use and therefore greenhouse gas emissions.</p><p>The EU policy think-tank Eurointelligence called the moves \"misguided\" and \"regressive\" because they subsidise middle-class car users instead of helping households least able to bear the brunt of energy price rises.</p><p><br/></p><p>GERMAN TENSIONS</p><p>The petrol price cuts have seen virtually no political push-back in Italy or France, where environmentalists have little weight in parliament, but in Germany the question has exposed the first signs of tension in the three-month-old government.</p><p>Finance Minister Christian Lindner from the pro-business Free Democrats has proposed a petrol and diesel rebate worth 6.6 billion euros over three months but the plan is resisted by the Greens, reluctant to back state subsidies for fossil fuels.</p><p>The frictions are undermining the unity of Olaf Scholz's coalition government ahead of an election this month in the state of Saarland, the first since last year's national ballot.</p><p>The Greens and some lawmakers from Scholz's Social Democrats say a universal rebate is unfair given that car ownership is prevalent among high earners whereas the spike in energy prices is squeezing low-income households, many of whom have no cars. </p><p>Economists such as Clemens Fuest, president of the high-profile Ifo institute, have also questioned the cost-effectiveness of the measure. Jens Suedekum, who advises Germany's economy ministry, said it amounted to \"throwing money out of the window\".</p><p>The stakes for the environment are high. In its latest report last month the U.N. climate science panel warned that climate change was impacting the world far faster than scientists had anticipated. <span> (<a href=\"reuters://REALTIME/verb=NewsStory/ric=nL1N2V30XA\" data-type=\"storyId\" data-story-id=\"nL1N2V30XA\" translate=\"no\" dir=\"ltr\" class=\"tr-pnac\">Full Story</a>)</span></p><p>\"Denial and delay are not strategies, they are a recipe for disaster,\" U.S. climate envoy John Kerry said in a statement accompanying the report, which was largely overshadowed by Russia's invasion of Ukraine just four days earlier.</p><p>Simultaneous heatwaves last weekend at the north and south poles saw temperatures 30-40 degrees Celsius above normal for the time of year.</p><p><br/></p><p>RUSSIAN OIL RELIANCE </p><p>The Paris-based International Energy Agency (IEA), a grouping of 31 industrialised countries, on Friday urged consumers to travel less, share transport and drive more slowly as part of a 10-point plan to cut oil use in advanced economies by 2.7 million barrels a day within four months, as the war in Ukraine intensifies concerns about supply. </p><p>In 2019, 27% of the EU's crude oil imports came from Russia.</p><p>Asked by Reuters whether the fuel subsidies to motorists being adopted by EU countries contradict the spirit of its plan, the IEA avoided any direct criticism.</p><p>\"Wherever possible, pricing measures should be designed carefully, prioritising the poorest parts of the population and those for whom cars are an indispensable part of their economic activity,\" it said in a statement.</p><p>The European Commission, which has called on member states to cut greenhouse gas emissions by 55% by 2030 compared with 1990 levels, also avoided criticising governments.</p><p>\"We understand the difficult situation created by the recent hikes in energy prices and the need to cushion the impact for households and businesses with temporary and targeted measures,\" a spokesperson said.</p><p>($1 = 0.9061 euros)</p><p><br/></p><div style=\"display:none;\" class=\"tr-sandwichbox\"></div><p class=\"tr-signoff\"> (Additional reporting by Joseph Nasr in Berlin, Noah Browning in London, Simon Johnson in Stockholm, Leigh Thomas in Paris and Kate Abnett in Brussels; Editing by Alison Williams)</p><p class=\"tr-contactinfo\">(( <a href=\"mailto:gavin.jones@thomsonreuters.com\" data-type=\"email\" translate=\"no\">gavin.jones@thomsonreuters.com</a> ; +39 06 8522 4232; ))</p><p class=\"line-break\"><br/></p><p class=\"tr-copyright\">(c) Copyright Thomson Reuters 2022. Click For Restrictions - https://agency.reuters.com/en/copyright.html</p><p class=\"line-break\"><br/></p><p class=\"tr-slugline\">Keywords: CLIMATE-CHANGE/EU-FUEL (ANALYSIS, PIX)</p></div>"
      ],
      "text/plain": [
       "<IPython.core.display.HTML object>"
      ]
     },
     "metadata": {},
     "output_type": "display_data"
    },
    {
     "data": {
      "text/html": [
       "<div class=\"storyContent\" lang=\"en\"><style type=\"text/css\">.storyContent * {border-color:inherit !important;outline-color:inherit !important;}</style><ul class=\"bulleted-list arrowlist\"><li class=\"tr-summaryitem\">European foreign ministers disagree on oil sanctions</li><li class=\"tr-summaryitem\">U.S. dollar gains ground after Powell comments</li><li class=\"tr-summaryitem\">U.S. crude inventories expected to be unchanged</li></ul><p class=\"tr-advisory\">New throughout, updates prices, market activity and comments; new byline, changes dateline, previous LONDON</p><p class=\"tr-by\">By Laura Sanicola</p><p class=\"tr-story-p1\"><span class=\"tr-dateline\">March 22</span><span class=\"tr-dl-sep\"> - </span><span class=\"tr-strong\">Oil stumbled on Tuesday as the dollar strengthened and it looked unlikely that the European Union would pursue an embargo on Russian oil, a day after prices jumped 7% and also rose earlier in the session</span>.</p><p>European Union foreign ministers are split on whether to join the United States in banning Russian oil. Some countries, including Germany, say the bloc is too dependent on Russia's fossil fuels to withstand such a step. <span> (<a href=\"reuters://REALTIME/verb=NewsStory/ric=nL2N2VO095\" data-type=\"storyId\" data-story-id=\"nL2N2VO095\" translate=\"no\" dir=\"ltr\" class=\"tr-pnac\">Full Story</a>)</span></p><p><span class=\"tr-strong\">\"It's pretty clear that the German economy will seize up so the EU is backing away from a Russian ban,\" said John Kilduff, partner at Again LLC in New York.</span></p><p>     Brent crude <a href=\"reuters://REALTIME/Verb=FullQuote/ric=LCOc1\" data-type=\"ric\" data-ric=\"LCOc1\" translate=\"no\" dir=\"ltr\">LCOc1</a> fe<span class=\"tr-strong\">ll 73 cents</span>, or 0<span class=\"tr-strong\">.6%, </span>to <span class=\"tr-strong\">$114.89 </span>a barrel by <span class=\"tr-strong\">11:45 a.m. EST</span> (1645 GMT). U.S. West Texas Intermediate crude <a href=\"reuters://REALTIME/Verb=FullQuote/ric=CLc1\" data-type=\"ric\" data-ric=\"CLc1\" translate=\"no\" dir=\"ltr\">CLc1</a> f<span class=\"tr-strong\">ell $1.91, or 1.7%, </span>to <span class=\"tr-strong\">$110.21</span>. <span class=\"tr-strong\">On Monday, both </span>contracts had settled up more than 7%. </p><p>Oil was <span class=\"tr-strong\">also</span> pressured by a stronger U.S. dollar, which gained a <span class=\"tr-strong\">day</span> after comments from U.S. Federal Reserve Chair Jerome Powell flagged a more aggressive tightening of monetary policy. <a href=\"reuters://REALTIME/verb=Headlines/ric=USD/\" data-type=\"newsExpression\" data-expression=\"USD/\" translate=\"no\" dir=\"ltr\">USD/</a></p><p>A strong dollar makes crude more expensive for other currency holders and tends to weigh on risk appetite.</p><p>\"The word 'transitory' regarding inflation is a distant memory, chiefly due to rising commodity prices,\" said Tamas Varga of broker PVM. \"Central banks, led by the Federal Reserve, stand ready to increase the cost of borrowing significantly.\" </p><p><span class=\"tr-strong\">Earlier this month, Brent </span>hit $139 a barrel, the highest since 2008. </p><p><span class=\"tr-strong\">Oil prices drew support from threats </span>to supply <span class=\"tr-strong\">as</span> Yemen's Iran-aligned Houthi group <span class=\"tr-strong\">attacked </span>Saudi energy and water desalination facilities. <span class=\"tr-strong\">On Monday, S</span>audi Arabia said it would not bear responsibility for any global supply shortages after the attacks by the Houthis, <span class=\"tr-strong\">signaling</span> growing Saudi frustration with Washington's handling of Yemen and Iran. <span> (<a href=\"reuters://REALTIME/verb=NewsStory/ric=nL2N2VO0LQ\" data-type=\"storyId\" data-story-id=\"nL2N2VO0LQ\" translate=\"no\" dir=\"ltr\" class=\"tr-pnac\">Full Story</a>)</span></p><p><span class=\"tr-strong\">The oil market will watch</span> the latest round of U.S. inventory data. <span class=\"tr-strong\">A</span>nalysts expect no change in crude oil stocks. The American Petroleum Institute, an industry group, issues its supply report on Tuesday. <a href=\"reuters://REALTIME/verb=Headlines/ric=EIA/S\" data-type=\"newsExpression\" data-expression=\"EIA/S\" translate=\"no\" dir=\"ltr\">EIA/S</a></p><p><br/></p><p class=\"tr-signoff\"> (Additional reporting Alex Lawler, by Mohi Narayan and Liz Hampton; Editing by Barbara Lewis, Kirsten Donovan and Andrea Ricci)</p><p class=\"tr-contactinfo\">(( <a href=\"mailto:Laura.sanicola@tr.com\" data-type=\"email\" translate=\"no\">Laura.sanicola@tr.com</a> ))</p><p class=\"line-break\"><br/></p><p class=\"tr-copyright\">(c) Copyright Thomson Reuters 2022. Click For Restrictions - https://agency.reuters.com/en/copyright.html</p><p class=\"line-break\"><br/></p><p class=\"tr-slugline\">Keywords: GLOBAL-OIL/ (UPDATE 6)</p></div>"
      ],
      "text/plain": [
       "<IPython.core.display.HTML object>"
      ]
     },
     "metadata": {},
     "output_type": "display_data"
    },
    {
     "data": {
      "text/html": [
       "<div class=\"storyContent\" lang=\"en\"><style type=\"text/css\">.storyContent * {border-color:inherit !important;outline-color:inherit !important;}</style><p class=\"tr-story-p1\"><span class=\"tr-dateline\">LIMA, March 22 (Reuters)</span><span class=\"tr-dl-sep\"> - </span>Peru's embattled state-owned oil company Petroperu will not submit its annual financial audit before the end of July, new Chief Executive Francisco de la Torre told Reuters on Tuesday, confirming that it will miss a key May deadline to present the document. </p><p>Petroperu was downgraded earlier this month to junk by credit agencies on the uncertainty generated when accounting firm PwC declined to audit the company's financial statements. Petroperu has yet to find a new auditor to look at its 2021 financial statements. </p><p>\"The optimistic scenario is for late July, the conservative scenario is for late August and the pessimistic scenario is for late September,\" said de la Torre. </p><p><br/></p><p class=\"tr-signoff\"> (Reporting by Marco Aquino; editing by Jonathan Oatis)</p><p class=\"tr-contactinfo\">(( <a href=\"mailto:marcelo.rochabrun@thomsonreuters.com\" data-type=\"email\" translate=\"no\">marcelo.rochabrun@thomsonreuters.com</a> ; +55 11 5644 7768; ))</p><p class=\"line-break\"><br/></p><p class=\"tr-copyright\">(c) Copyright Thomson Reuters 2022. Click For Restrictions - https://agency.reuters.com/en/copyright.html</p><p class=\"line-break\"><br/></p><p class=\"tr-slugline\">Keywords: PERU-PETROPERU/ (EXCLUSIVE)</p></div>"
      ],
      "text/plain": [
       "<IPython.core.display.HTML object>"
      ]
     },
     "metadata": {},
     "output_type": "display_data"
    },
    {
     "data": {
      "text/html": [
       "<div class=\"storyContent\" lang=\"en\"><style type=\"text/css\">.storyContent * {border-color:inherit !important;outline-color:inherit !important;}</style><p class=\"tr-story-p1\"><span class=\"tr-dateline\">March 22 (Reuters)</span><span class=\"tr-dl-sep\"> - </span>Poland's PKN Orlen will ship at least three cargoes of Norway's Johan Sverdrup crude in March to the Lithuanian port of Butinge to supply its Mazeikiu refinery, Refinitiv Eikon data showed, as the refiner replaces Russian Urals oil.</p><p>Although the European Union has yet to ban Russia oil, sanctions on Russian financial institutions have made it difficult to finance and insure cargoes of Urals, adding to the reasons for buyers to consider seeks alternative sources.</p><p>Until now the Mazeikiu refinery in Lithuania has mostly relied on Urals, but Norway's medium sour grade Johan Sverdrup will arrive in Butinge for the first time this month, the data shows.</p><p>\"PKN Orlen is buying spot crude from several directions both in Europe and outside Europe,\" a spokesperson told Reuters, adding that it planned to buy other North Sea grades, as well as West African Forcados and Bonny Light and U.S. WTI, Bakken and Mars for its plants in Lithuania, Poland and the Czech Republic.</p><p>PKN Orlen said earlier this month it would also continue to buy Russian crude oil to ensure the security of supply, while also saying it had approached Saudi Aramco for extra non-Russian oil. <span> (<a href=\"reuters://REALTIME/verb=NewsStory/ric=nL2N2VE1RA\" data-type=\"storyId\" data-story-id=\"nL2N2VE1RA\" translate=\"no\" dir=\"ltr\" class=\"tr-pnac\">Full Story</a>)</span><span> (<a href=\"reuters://REALTIME/verb=NewsStory/ric=nL1N2V50ZW\" data-type=\"storyId\" data-story-id=\"nL1N2V50ZW\" translate=\"no\" dir=\"ltr\" class=\"tr-pnac\">Full Story</a>)</span></p><p>Shipping data shows three cargoes of Johan Sverdrup of 80,000 tonnes each, delivered by OSLO TS, IONIC ANAX and SOLA TS vessels, will arrive in Butinge in March, along with just two cargoes of Urals, one cargo of CPC Blend and one cargo of Forties.</p><p>Of European grades, Johan Sverdrup is the closest in quality to Urals, although it has a lower sulphur content, making it slightly easier to refine.</p><p>High demand for the grade has lifted its prices with cargoes heard trading as high as dated Brent plus $5 per barrel, compared to Urals most recent estimates of a discount of $30 per barrel.</p><p><br/></p><p class=\"tr-signoff\"> (Reporting by Reuters, additional reporting by Marek Strzelecki in Warsaw; editing by Barbara Lewis)</p><p class=\"line-break\"><br/></p><p class=\"tr-copyright\">(c) Copyright Thomson Reuters 2022. Click For Restrictions - https://agency.reuters.com/en/copyright.html</p><p class=\"line-break\"><br/></p><p class=\"tr-slugline\">Keywords: RUSSIA-OIL/EXPORTS</p></div>"
      ],
      "text/plain": [
       "<IPython.core.display.HTML object>"
      ]
     },
     "metadata": {},
     "output_type": "display_data"
    },
    {
     "data": {
      "text/html": [
       "<div class=\"storyContent\" lang=\"en\"><style type=\"text/css\">.storyContent * {border-color:inherit !important;outline-color:inherit !important;}</style><p class=\"tr-story-p1\"><span class=\"tr-dateline\">LONDON, March 22 (Reuters)</span><span class=\"tr-dl-sep\"> - </span>Global commodities trader Gunvor Group is looking for partners to help expand the business, including a capital injection, at a time when traders have to pass on deals because of extreme price rallies and volatility, its chief executive said.</p><p>\"I have been spending the last 3-4 years buying up shares, for one simple reason, I believe in the company so I'm not in market to sell out,\" Gunvor CEO Torbjorn Tornqvist told the FT Commodities Global Summit. </p><p>\"We are open to form an alliance to increase the size of the company. It would be desirable to have additional equity.\"</p><p><br/></p><p class=\"tr-signoff\"> (Reporting by Julia Payne; Editing by Kirsten Donovan)</p><p class=\"tr-contactinfo\">(( <a href=\"mailto:julia.payne@thomsonreuters.com\" data-type=\"email\" translate=\"no\">julia.payne@thomsonreuters.com</a> ; +44 207 542 1836; ))</p><p class=\"line-break\"><br/></p><p class=\"tr-copyright\">(c) Copyright Thomson Reuters 2022. Click For Restrictions - https://agency.reuters.com/en/copyright.html</p><p class=\"line-break\"><br/></p><p class=\"tr-slugline\">Keywords: GUNVOR-PARTNERS/ (URGENT)</p></div>"
      ],
      "text/plain": [
       "<IPython.core.display.HTML object>"
      ]
     },
     "metadata": {},
     "output_type": "display_data"
    },
    {
     "data": {
      "text/html": [
       "<div class=\"storyContent\" lang=\"en\"><style type=\"text/css\">.storyContent * {border-color:inherit !important;outline-color:inherit !important;}</style><p class=\"tr-advisory\">Repeats without change</p><p class=\"tr-by\">By John Kemp</p><p class=\"tr-story-p1\"><span class=\"tr-dateline\">LONDON, March 21 (Reuters)</span><span class=\"tr-dl-sep\"> - </span>Investors trimmed bullish petroleum positions for the second week amid elevated volatility, with prices oscillating between the twin threats posed by sanctions-driven supply disruptions and a demand-destroying recession.</p><p>Hedge funds and other money managers sold the equivalent of 36 million barrels in the six most important petroleum-related futures and options contracts in the week to March 15 (<a href=\"https://tmsnrt.rs/3KVvDWc\" data-type=\"url\" class=\"tr-link\" translate=\"no\">https://tmsnrt.rs/3KVvDWc</a>).</p><p>Fund sales have totalled 178 million barrels over the two most recent weeks, reducing their combined position to 553 million barrels, which is only in the 39th percentile for all weeks since 2013.</p><p>Bullish long positions still outnumbered bearish short ones by 4.82:1 (62nd percentile) last week, but the ratio had been reduced sharply from 6.69:1 (84th percentile) two weeks earlier.</p><p>There was a reduction last week in both bullish long positions (-48 million barrels) and bearish short ones (-12 million) as fund managers reduced risk exposure in response to the heightened volatility.</p><p>There were net sales across the board in NYMEX and ICE WTI (-16 million barrels), Brent (-5 million), U.S. gasoline (-6 million), U.S. diesel (-1 million) and European gas oil (-7 million).</p><p>In response to the deteriorating economic outlook, portfolio managers have sold middle distillates for six consecutive weeks, reducing their bullish position by a total of 68 million barrels since Feb. 1.</p><p>They have also sold gasoline for three weeks running, reducing their bullish position by a total of 26 million barrels since Feb. 22 in expectation that higher prices will keep more motorists off the roads.</p><p>Russia’s invasion of Ukraine and the sanctions imposed in response by the United States and its European allies have threatened the largest loss of Russian oil exports and production from any country for decades.</p><p>But intensifying inflation, rising interest rates, pressure from higher fuel bills and continued coronavirus lockdowns in China have also raised risks of a recession and a big hit to oil consumption.</p><p>There is also extreme uncertainty about the course of the Russia-Ukraine conflict and the resulting sanctions on Russia’s crude oil, fuel oil and diesel exports.</p><p>The increased price volatility has triggered a massive rise in margin requirements, heightening the cost of maintaining existing futures and options positions or initiating new ones.</p><p>As a result, many market participants, not only hedge funds, have trimmed futures and options positions either out of caution or because they cannot fund the increased margin requirements.</p><p>On the futures side, total open interest across the six major contracts has fallen by almost 1 billion barrels in the past four weeks, a record rate of decline, to hit the lowest level since June 2015.</p><p>Diminished market liquidity and heightened volatility have fed off one another in a classic positive feedback loop, leading to large price swings as traders struggle to assess competing upside and downside price risks.</p><p><br/></p><p>Related columns:</p><p>- Oil prices bubble then implode (Reuters, March 17) <span> (<a href=\"reuters://REALTIME/verb=NewsStory/ric=nL2N2VK1RP\" data-type=\"storyId\" data-story-id=\"nL2N2VK1RP\" translate=\"no\" dir=\"ltr\" class=\"tr-pnac\">Full Story</a>)</span></p><p>- Hedge funds slash oil positions amid extreme volatility (Reuters, March 14) <span> (<a href=\"reuters://REALTIME/verb=NewsStory/ric=nL2N2VH12E\" data-type=\"storyId\" data-story-id=\"nL2N2VH12E\" translate=\"no\" dir=\"ltr\" class=\"tr-pnac\">Full Story</a>)</span></p><p>- Hedge funds anticipate oil price spike, possible recession (Reuters, March 7) <span> (<a href=\"reuters://REALTIME/verb=NewsStory/ric=nL2N2VA11M\" data-type=\"storyId\" data-story-id=\"nL2N2VA11M\" translate=\"no\" dir=\"ltr\" class=\"tr-pnac\">Full Story</a>)</span></p><p>- Global recession risks rise after Russia invades Ukraine (Reuters, March 4) <span> (<a href=\"reuters://REALTIME/verb=NewsStory/ric=nL2N2V71J0\" data-type=\"storyId\" data-story-id=\"nL2N2V71J0\" translate=\"no\" dir=\"ltr\" class=\"tr-pnac\">Full Story</a>)</span></p><p><br/></p><p>John Kemp is a Reuters market analyst. The views expressed are his own</p><p><br/></p><p class=\"tr-signoff\"> (Editing by David Goodman)</p><p class=\"tr-contactinfo\">(( <a href=\"mailto:john.kemp@thomsonreuters.com\" data-type=\"email\" translate=\"no\">john.kemp@thomsonreuters.com</a> ))</p><p class=\"line-break\"><br/></p><p class=\"tr-copyright\">(c) Copyright Thomson Reuters 2022. Click For Restrictions - https://agency.reuters.com/en/copyright.html</p><p class=\"line-break\"><br/></p><p class=\"tr-slugline\">Keywords: OIL-GLOBAL/KEMP (REPEAT, COLUMN, PIX)</p></div>"
      ],
      "text/plain": [
       "<IPython.core.display.HTML object>"
      ]
     },
     "metadata": {},
     "output_type": "display_data"
    },
    {
     "data": {
      "text/html": [
       "<div class=\"storyContent\" lang=\"en\"><style type=\"text/css\">.storyContent * {border-color:inherit !important;outline-color:inherit !important;}</style><p class=\"tr-by\">By Stefanie Eschenbacher</p><p class=\"tr-story-p1\"><span class=\"tr-dateline\">MEXICO CITY, March 22 (Reuters)</span><span class=\"tr-dl-sep\"> - </span><span class=\"tr-strong\">Flaring by the energy sector in Mexico hit record levels last year while the number of sites where gas is burnt off also rose despite government pledges to reduce such activity, research by a leading team of scientists showed.</span></p><p><span class=\"tr-strong\">The practice releases</span> carbon dioxide, black carbon and other pollutants as well as methane, a potent greenhouse gas <span class=\"tr-strong\">scientists have linked to global warming</span>. <span class=\"tr-strong\">It also wastes usable resources associated with many oil deposits.</span></p><p>Mexico flared 6.5 billion cubic meter (bcm) of gas in 2021, up from 5.8 bcm a year earlier, said Tamara Sparks, a researcher at the Earth Observation Group of the Colorado School of Mines, who analyzed NASA satellite images of flare sites for Reuters.</p><p>\"Flaring peaked in early 2021 but remained high enough throughout the year to beat 2020, which was already a record high,\" Sparks said.</p><p>    The data from the Earth Observation Group also showed a rise in the number of individual flare sites across Mexico last year to 181 from 170 in 2020, Sparks said. Records in their current form began in 2012.</p><p>The numbers have not previously been reported.</p><p>Increased flaring emits millions of additional tons of greenhouse gases, the researchers at the Earth Observation Group estimated. </p><p><span class=\"tr-strong\">But flaring is cheaper in the short term than investing in expensive infrastructure to capture, process and transport it for other uses.</span></p><p>    Officials at the state oil company Petroleos Mexicanos (Pemex) and the Energy Ministry have said current budget priorities are focused on exploration and raising oil production, as well as two new refineries. </p><p>Neither Pemex nor the energy ministry responded to a request for comment for this story.</p><p>Pemex, the world's most indebted state oil company, has been under pressure to meet ambitious oil production targets under President Andres Manuel Lopez Obrador, an energy nationalist, <span class=\"tr-strong\">with little or no</span> private investment </p><p>When Lopez Obrador took office in late 2018, Mexico had flared 3.9 bcm that year, the data showed. Since then, the practice has soared even as oil production in Mexico has fallen.</p><p>The 2021 data suggests that in spite of pledges to reduce flaring, and greenhouse gas emissions, Mexico remains behind in a global push to transition to cleaner energy. </p><p>Researchers and scientists around the world, including at the World Bank, which leads a global push to end routine flaring by 2030, have warned the practice contributes to climate change and environmental pollution.</p><p>Pemex <span class=\"tr-strong\">stated</span> in recent quarterly filings that it is flaring too much. Infrastructure to deal with gas associated with oil production is inefficient, outdated or nonexistent, it <span class=\"tr-strong\">has said</span>.</p><p>Lopez Obrador has <span class=\"tr-strong\">argued</span> it will take time to turn Pemex around and accused his predecessors of decades of mismanagement and plundering.</p><p>Emily Medina, a fellow at the Energy Policy Research Foundation, said Pemex has a social and environmental obligation to reduce flaring, and that it would also make economic sense.</p><p>\"Gas is a valuable commodity particularly under the current high price environment,\" Medina said. \"It could help strengthen Mexico's energy security.\"</p><p><br/></p><div style=\"display:none;\" class=\"tr-sandwichbox\"></div><p class=\"tr-signoff\"> (Reporting by Stefanie Eschenbacher; Editing by David Gregorio)</p><p class=\"tr-contactinfo\">(( <a href=\"mailto:Stefanie.Eschenbacher@thomsonreuters.com\" data-type=\"email\" translate=\"no\">Stefanie.Eschenbacher@thomsonreuters.com</a> ;))</p><p class=\"line-break\"><br/></p><p class=\"tr-copyright\">(c) Copyright Thomson Reuters 2022. Click For Restrictions - https://agency.reuters.com/en/copyright.html</p><p class=\"line-break\"><br/></p><p class=\"tr-slugline\">Keywords: MEXICO-PEMEX/FLARING (EXCLUSIVE, PIX, TV)</p></div>"
      ],
      "text/plain": [
       "<IPython.core.display.HTML object>"
      ]
     },
     "metadata": {},
     "output_type": "display_data"
    },
    {
     "data": {
      "text/html": [
       "<div class=\"storyContent\" lang=\"en\"><style type=\"text/css\">.storyContent * {border-color:inherit !important;outline-color:inherit !important;}</style><p class=\"tr-story-p1\"><span class=\"tr-dateline\">ROME, March 22 (Reuters)</span><span class=\"tr-dl-sep\"> - </span>Italy expects to raise 3.98 billion euros ($4.38 billion) from a clawback measure slapped on energy companies, a Treasury document seen by Reuters showed on Tuesday.</p><p>The government on Friday approved a 4.4 billion euro package to help consumers and firms cope with surging energy costs exacerbated by the Ukraine crisis. <span> (<a href=\"reuters://REALTIME/verb=NewsStory/ric=nL2N2VL1Z0\" data-type=\"storyId\" data-story-id=\"nL2N2VL1Z0\" translate=\"no\" dir=\"ltr\" class=\"tr-pnac\">Full Story</a>)</span></p><p>Rome is funding a large part of the scheme through a 10% one-off levy on producers and sellers of electricity, natural gas and petrol products.</p><p>It will apply to profit margins which rose by more than 5 million euros during the Oct. 2021 - March 2022 period compared to a year earlier, excluding cases where the profit margin rose by less than 10%.</p><p>Italy has set aside more than 20 billion euros since last July to try and soften the increase in electricity and gas bills for firms and households.</p><p>Prime Minister Mario Draghi is facing growing pressure from the ruling coalition to approve a further borrowing package.</p><p>($1 = 0.9083 euros)</p><p><br/></p><p class=\"tr-signoff\"> (Reporting by Giuseppe Fonte; Editing by Kirsten Donovan)</p><p class=\"tr-contactinfo\">(( <a href=\"mailto:giuseppe.fonte@thomsonreuters.com\" data-type=\"email\" translate=\"no\">giuseppe.fonte@thomsonreuters.com</a> ; +390680307711; ))</p><p class=\"line-break\"><br/></p><p class=\"tr-copyright\">(c) Copyright Thomson Reuters 2022. Click For Restrictions - https://agency.reuters.com/en/copyright.html</p><p class=\"line-break\"><br/></p><p class=\"tr-slugline\">Keywords: ITALY-ENERGY/CLAW-BACK</p></div>"
      ],
      "text/plain": [
       "<IPython.core.display.HTML object>"
      ]
     },
     "metadata": {},
     "output_type": "display_data"
    },
    {
     "data": {
      "text/html": [
       "<div class=\"storyContent\" lang=\"en\"><style type=\"text/css\">.storyContent * {border-color:inherit !important;outline-color:inherit !important;}</style><p class=\"tr-advisory\">Recasts first sentence with strikers vowing to endure, adds comments by union official, company and analyst, adds industry background</p><p class=\"tr-by\">By Erwin Seba and Gary McWilliams</p><p class=\"tr-story-p1\"><span class=\"tr-dateline\">March 21 (Reuters)</span><span class=\"tr-dl-sep\"> - </span>Picketers marching at the gates of a large Chevron Corp <a href=\"reuters://REALTIME/Verb=FullQuote/ric=CVX.N\" data-type=\"ric\" data-ric=\"CVX.N\" translate=\"no\" dir=\"ltr\">CVX.N</a> oil refinery outside of San Francisco said on Monday they could endure a lengthy walkout to press claims for a new labor contract.</p><p>But the plant was continuing to operate normally and fuel supply and prices are not expected to be impacted, gasoline analysts said. </p><p>More than 500 United Steelworkers members at the 245,000 barrel per day Richmond, California, facility went off the job early on Monday after members rejected a Chevron contract proposal over the weekend. </p><p>The walkout is the first in more than 40 years at the plant, which is a major supplier of gasoline, jet fuel and diesel fuel. The last strike, in 1980, continued for five months, said United Steelworkers union local 5 First Vice President B.K. White.</p><p>\"We are waiting for Chevron to come to the table,\" White said in an interview outside the gates as truck drivers blared their horns in support. The union is prepared to \"stay put until we get a fair and equitable contract,\" he added. </p><p><br/></p><p>NO IMPACT AT THE PUMP</p><p>California, which has some of the highest fuel prices in the nation, is unlikely to feel an impact, said fuel analysts.     Wholesale California gasoline prices fell 21.5 cents and 13 cents per gallon, respectively, in the Los Angeles and San Francisco markets on Monday, traders said. </p><p>A gallon of unleaded regular gasoline in the state on Monday sold on average for $5.86 and a gallon of diesel for $6.26, according to motorist group AAA.</p><p>\"A strike at a refinery is not necessarily a catastrophic event in terms of prices and supply. Motorists, at least at this point, are not likely to notice anything,\" said Patrick De Haan, head of petroleum analysis at GasBuddy.     </p><p>Chevron is continuing to operate the facility and remains willing to engage in further discussions with the union, said spokesman Tyler Kruzich.</p><p>The company began replacing union workers at the controls of production units on Sunday evening with managers, technical staff and others. </p><p><br/></p><p>NO NEW TALKS SET </p><p>No plans for a resumption of contract talks have been set.</p><p>\"The strike potential scares folks, but in reality and in the short term, it shouldn’t affect anything,\" said one Los Angeles fuel trader, who spoke on condition of anonymity to preserve business relationships. </p><p>\"It's different here in California where strikers don’t get violent,\" the trader said. \"Refinery management should be able to operate the refinery at least as well as union crews.\"</p><p>Still, U.S. gasoline futures <a href=\"reuters://REALTIME/Verb=FullQuote/ric=RBc1\" data-type=\"ric\" data-ric=\"RBc1\" translate=\"no\" dir=\"ltr\">RBc1</a> jumped 4.5% in New York on reports that European Union officials are weighing a ban of Russian petroleum over the country's invasion of Ukraine, said Devin Gladden, a spokesperson at motorist group AAA. <span> (<a href=\"reuters://REALTIME/verb=NewsStory/ric=nL2N2VN0DT\" data-type=\"storyId\" data-story-id=\"nL2N2VN0DT\" translate=\"no\" dir=\"ltr\" class=\"tr-pnac\">Full Story</a>)</span></p><p>The USW union local at the plant has asked for a 5% pay increase above that agreed last month under a national labor agreement because of the higher cost of living in the San Francisco Bay Area. </p><p>It also wants the company to add staffing to reduce the 60-70 hours that union members must sometimes work, the USW's White told Reuters.       </p><p><br/></p><div style=\"display:none;\" class=\"tr-sandwichbox\"></div><p class=\"tr-signoff\"> (Reporting by Gary McWilliams and Erwin Seba in Houston<br/>Editing by Marguerita Choy and Matthew Lewis)</p><p class=\"tr-contactinfo\">(( <a href=\"mailto:Gary.McWilliams@thomsonreuters.com\" data-type=\"email\" translate=\"no\">Gary.McWilliams@thomsonreuters.com</a> ; +1 469-691-7668; ))</p><p class=\"line-break\"><br/></p><p class=\"tr-copyright\">(c) Copyright Thomson Reuters 2022. Click For Restrictions - https://agency.reuters.com/en/copyright.html</p><p class=\"line-break\"><br/></p><p class=\"tr-slugline\">Keywords: REFINERY-LABOR/CHEVRON-STRIKE (UPDATE 1, PIX)</p></div>"
      ],
      "text/plain": [
       "<IPython.core.display.HTML object>"
      ]
     },
     "metadata": {},
     "output_type": "display_data"
    },
    {
     "data": {
      "text/html": [
       "<div class=\"storyContent\" lang=\"en\"><style type=\"text/css\">.storyContent * {border-color:inherit !important;outline-color:inherit !important;}</style><p class=\"tr-by\">By Kate Abnett and Susanna Twidale</p><p class=\"tr-story-p1\"><span class=\"tr-dateline\">BRUSSELS/LONDON March 21 (Reuters)</span><span class=\"tr-dl-sep\"> - </span>Proposals from southern European countries to intervene in energy markets have highlighted the difficulty facing an EU summit this week as it seeks to respond to record prices driven by Russia's invasion of Ukraine.</p><p>The 27 EU-member states are responsible for their own national energy policies. That complicates the European Commission's task of devising a plan as it balances the goals of cutting reliance on Russian energy, limiting economic pain and not losing sight of its ambitions to cut carbon emissions.</p><p>Following a first batch of proposals in October - when prices were already surging - focused on national subsidies and tax cuts, the EU executive is drafting further options to present to leaders at a Brussels summit on March 24-25. </p><p>They are expected to contain steps countries can implement on a national basis when coordinated intervention has divided opinion.</p><p>Opponents of EU-wide intervention to cap gas prices say it would use public funding to effectively subsidise fossil fuel generation. That money, they say, should be spent on the shift to clean energy.</p><p>Supporters say that without it, some member states will struggle to fund measures domestically to shield poorer households if high energy prices persist. EU governments have already ploughed billions into tax cuts and subsidies to protect consumers.</p><p>Portugal and Spain last week said they had drawn up proposals to impose a 180 euros per megawatt hour (MWh) price cap in Europe's wholesale electricity spot market, and would push ahead with the plan even without EU backing. <span> (<a href=\"reuters://REALTIME/verb=NewsStory/ric=nLUN2SO013\" data-type=\"storyId\" data-story-id=\"nLUN2SO013\" translate=\"no\" dir=\"ltr\" class=\"tr-pnac\">Full Story</a>)</span></p><p>But a Spanish Energy Ministry source said on Monday the cap was not the country's core proposal and Spain would prefer measures that have broader EU support. </p><p>\"Right now it is not the main option on the table,\" the source said. \"The main one is to decouple the price of gas from the price of electricity.\" </p><p>Some countries have already imposed price caps, with France freezing domestic gas prices last year by compensating gas companies for selling below higher spot prices. </p><p>Greece has separately proposed a cap on European gas prices, the main driver of high electricity costs.</p><p>Those opposed to intervening in energy markets and the proposed price caps include Germany and the Netherlands.</p><p>\"We are very reluctant to intervene in markets, because we want to avoid disrupting markets in the short term as that could hinder investments in sustainable energy,\" Dutch climate minister Rob Jetten said on Thursday.</p><p>Leonhard Birnbaum, chief executive of Germany's biggest energy company E.ON <a href=\"reuters://REALTIME/Verb=FullQuote/ric=EONGn.DE\" data-type=\"ric\" data-ric=\"EONGn.DE\" translate=\"no\" dir=\"ltr\">EONGn.DE</a>, last week also said there was a risk that artificially capping prices would mask the scarcity signals that encourage producers to ramp up energy generation when demand is high.</p><p>        </p><p>VARYING COSTS</p><p>Although European countries use a shared system of setting electricity prices, wholesale costs vary between member states depending on their energy generation mix and regional factors, such as grid connection and weather. </p><p>The Spanish day-ahead baseload electricity contract was trading around 175 euros per megawatt hour (MWh) on Monday, while the German equivalent was trading around 237 euros/MWh. </p><p>The overall electricity price is set by the cost of bringing the last unit of power to the market needed to meet demand - a practice that means gas power plants often set the price and which Spain has said means prices do not fairly reflect a growing share of renewable generation. <span> (<a href=\"reuters://REALTIME/verb=NewsStory/ric=nL1N2PJ0H1\" data-type=\"storyId\" data-story-id=\"nL1N2PJ0H1\" translate=\"no\" dir=\"ltr\" class=\"tr-pnac\">Full Story</a>)</span></p><p>Brussels has resisted calls to decouple gas and electricity prices - an idea Spain has proposed since late last year - as it awaits a report expected this month from energy regulators on possible EU electricity market reforms.    </p><p>Austrian climate minister Leonore Gewessler said it would be unwise to act before those findings are known. </p><p>\"All possible changes in the energy market need to be considered carefully,\" she said.</p><p>The cost surge has been exacerbated by Russia's invasion of Ukraine, which it began on Feb. 24. It prompted the EU to hastily draft plans to cut reliance on Russia, which supplies around 40% of the bloc's gas.</p><p>The EU this month set out a plan to reduce reliance on Russian gas by two thirds this year, a goal analysts say will be hard to achieve given its focus on competing for scarce LNG supplies. The plan would also require expanding renewable energy projects and energy-saving renovations faster.</p><p>The Commission is expected to this week propose EU-wide regulation requiring countries to fill gas storage ahead of winter to provide a buffer against supply shocks. A draft of the leaders' summit conclusions, seen by Reuters, agreed to \"take forward\" the proposal. <span> (<a href=\"reuters://REALTIME/verb=NewsStory/ric=nL5N2VI4MO\" data-type=\"storyId\" data-story-id=\"nL5N2VI4MO\" translate=\"no\" dir=\"ltr\" class=\"tr-pnac\">Full Story</a>)</span></p><p><br/></p><div style=\"display:none;\" class=\"tr-sandwichbox\"></div><p class=\"tr-signoff\"> (Reporting by Kate Abnett in Brussels and Susanna Twidale in London, additional reporting by Vera Eckert in Frankfurt, Sergio Goncalves in Lisbon, Inti Landauro and Nathan Allen in Madrid. Editing by Veronica Brown and Barbara Lewis)</p><p class=\"tr-contactinfo\">(( <a href=\"mailto:Kate.Abnett@thomsonreuters.com\" data-type=\"email\" translate=\"no\">Kate.Abnett@thomsonreuters.com</a> ;))</p><p class=\"line-break\"><br/></p><p class=\"tr-copyright\">(c) Copyright Thomson Reuters 2022. Click For Restrictions - https://agency.reuters.com/en/copyright.html</p><p class=\"line-break\"><br/></p><p class=\"tr-slugline\">Keywords: UKRAINE-CRISIS/EUROPE-ENERGY PRICES (ANALYSIS, PIX)</p></div>"
      ],
      "text/plain": [
       "<IPython.core.display.HTML object>"
      ]
     },
     "metadata": {},
     "output_type": "display_data"
    },
    {
     "data": {
      "text/html": [
       "<div class=\"storyContent\" lang=\"en\"><style type=\"text/css\">.storyContent * {border-color:inherit !important;outline-color:inherit !important;}</style><p class=\"tr-by\">By Nidhi Verma</p><p class=\"tr-story-p1\"><span class=\"tr-dateline\">NEW DELHI, March 22 (Reuters)</span><span class=\"tr-dl-sep\"> - </span>Indian Oil Corp <a href=\"reuters://REALTIME/Verb=FullQuote/ric=IOC.NS\" data-type=\"ric\" data-ric=\"IOC.NS\" translate=\"no\" dir=\"ltr\">IOC.NS</a>, the country's top fuel retailer, will raise petrol and diesel price by 0.80 rupees a litre from Wednesday, the second such increase in pump prices in as many days, a notification sent to dealers showed on Tuesday.</p><p>From Wednesday, a litre of petrol in Delhi will cost 97.01 rupees ($1.28), while diesel prices will be raised to 88.27 rupees, a notification sent to dealers show. </p><p>India's three state-run fuel retailers - Indian Oil Corp <a href=\"reuters://REALTIME/Verb=FullQuote/ric=IOC.NS\" data-type=\"ric\" data-ric=\"IOC.NS\" translate=\"no\" dir=\"ltr\">IOC.NS</a>, Bharat Petroleum Corp <a href=\"reuters://REALTIME/Verb=FullQuote/ric=BPCL.NS\" data-type=\"ric\" data-ric=\"BPCL.NS\" translate=\"no\" dir=\"ltr\">BPCL.NS</a> and Hindustan Petroleum Corp <a href=\"reuters://REALTIME/Verb=FullQuote/ric=HPCL.NS\" data-type=\"ric\" data-ric=\"HPCL.NS\" translate=\"no\" dir=\"ltr\">HPCL.NS</a> - dominate fuel retailing in India, and tend to move their prices together.</p><p>The retailer began raising fuel prices from Tuesday after a gap of more than four months. <span> (<a href=\"reuters://REALTIME/verb=NewsStory/ric=nL3N2VA3IT\" data-type=\"storyId\" data-story-id=\"nL3N2VA3IT\" translate=\"no\" dir=\"ltr\" class=\"tr-pnac\">Full Story</a>)</span></p><p>($1 = 76.0850 Indian rupees)</p><p><br/></p><p class=\"tr-signoff\"> (Reporting by Nidhi Verma; Editing by Alex Richardson)</p><p class=\"tr-contactinfo\">(( <a href=\"mailto:nidhi.verma@thomsonreuters.com\" data-type=\"email\" translate=\"no\">nidhi.verma@thomsonreuters.com</a> ; +91 11 49548031; Reuters Messaging: <a href=\"rm://nidhi.verma.thomsonreuters.com@reuters.net\" data-type=\"url\" class=\"tr-link\" translate=\"no\">nidhi.verma.thomsonreuters.com@reuters.net</a> ))</p><p class=\"line-break\"><br/></p><p class=\"tr-copyright\">(c) Copyright Thomson Reuters 2022. Click For Restrictions - https://agency.reuters.com/en/copyright.html</p><p class=\"line-break\"><br/></p><p class=\"tr-slugline\">Keywords: INDIA-FUEL/PRICES (URGENT)</p></div>"
      ],
      "text/plain": [
       "<IPython.core.display.HTML object>"
      ]
     },
     "metadata": {},
     "output_type": "display_data"
    }
   ],
   "source": [
    "# Use storyID to retrieve news story\n",
    "for story_id in list_topnews_story_id:\n",
    "    story = ek.get_news_story(story_id)\n",
    "    display(HTML(story))"
   ]
  },
  {
   "cell_type": "code",
   "execution_count": null,
   "id": "9291091a-eeec-4756-bb88-dcad6cdfced1",
   "metadata": {},
   "outputs": [],
   "source": []
  }
 ],
 "metadata": {
  "kernelspec": {
   "display_name": "Python 3 (ipykernel)",
   "language": "python",
   "name": "python3"
  },
  "language_info": {
   "codemirror_mode": {
    "name": "ipython",
    "version": 3
   },
   "file_extension": ".py",
   "mimetype": "text/x-python",
   "name": "python",
   "nbconvert_exporter": "python",
   "pygments_lexer": "ipython3",
   "version": "3.9.6"
  }
 },
 "nbformat": 4,
 "nbformat_minor": 5
}
